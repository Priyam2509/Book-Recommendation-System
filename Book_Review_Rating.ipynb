{
 "cells": [
  {
   "cell_type": "code",
   "execution_count": 1,
   "id": "6bad25f1-c331-4c8f-83a3-63612482d230",
   "metadata": {},
   "outputs": [],
   "source": [
    "import os \n",
    "import time \n",
    "import datetime \n",
    "import numpy as np \n",
    "import pandas as pd \n",
    "import matplotlib.pyplot as plt \n",
    "import sklearn \n",
    "import tensorflow as tf \n",
    "from tensorflow import keras \n",
    "from functools import partial \n",
    "import seaborn as sns \n",
    "from tensorflow.keras.preprocessing.image import ImageDataGenerator \n",
    "from tensorflow.keras.layers import Dense, Input, Dropout,Flatten, Conv2D \n",
    "from tensorflow.keras.layers import BatchNormalization, Activation, MaxPooling2D \n",
    "from tensorflow.keras.models import Model, Sequential\n",
    "from tensorflow.keras.optimizers import Adam \n",
    "from tensorflow.keras.callbacks import ModelCheckpoint, ReduceLROnPlateau \n",
    "from tensorflow.keras.utils import plot_model \n",
    "from keras.models import Sequential \n",
    "from keras.layers import Dense, Activation, Convolution2D, Reshape, Flatten, MaxPooling2D, Dropout \n",
    "from tensorflow.keras.utils import to_categorical"
   ]
  },
  {
   "cell_type": "markdown",
   "id": "9886385c-456d-4e68-ac1d-ca43a6f09ab9",
   "metadata": {
    "jp-MarkdownHeadingCollapsed": true
   },
   "source": [
    "## DATASET"
   ]
  },
  {
   "cell_type": "code",
   "execution_count": 2,
   "id": "93b48d48-54d4-4bbb-a7fa-4c64bf5a364e",
   "metadata": {
    "scrolled": true
   },
   "outputs": [
    {
     "data": {
      "text/html": [
       "<div>\n",
       "<style scoped>\n",
       "    .dataframe tbody tr th:only-of-type {\n",
       "        vertical-align: middle;\n",
       "    }\n",
       "\n",
       "    .dataframe tbody tr th {\n",
       "        vertical-align: top;\n",
       "    }\n",
       "\n",
       "    .dataframe thead th {\n",
       "        text-align: right;\n",
       "    }\n",
       "</style>\n",
       "<table border=\"1\" class=\"dataframe\">\n",
       "  <thead>\n",
       "    <tr style=\"text-align: right;\">\n",
       "      <th></th>\n",
       "      <th>user_id</th>\n",
       "      <th>book_id</th>\n",
       "      <th>review_id</th>\n",
       "      <th>rating</th>\n",
       "      <th>review_text</th>\n",
       "      <th>date_added</th>\n",
       "      <th>date_updated</th>\n",
       "      <th>read_at</th>\n",
       "      <th>started_at</th>\n",
       "      <th>n_votes</th>\n",
       "      <th>n_comments</th>\n",
       "    </tr>\n",
       "  </thead>\n",
       "  <tbody>\n",
       "    <tr>\n",
       "      <th>0</th>\n",
       "      <td>8842281e1d1347389f2ab93d60773d4d</td>\n",
       "      <td>18245960</td>\n",
       "      <td>dfdbb7b0eb5a7e4c26d59a937e2e5feb</td>\n",
       "      <td>5</td>\n",
       "      <td>This is a special book. It started slow for ab...</td>\n",
       "      <td>Sun Jul 30 07:44:10 -0700 2017</td>\n",
       "      <td>Wed Aug 30 00:00:26 -0700 2017</td>\n",
       "      <td>Sat Aug 26 12:05:52 -0700 2017</td>\n",
       "      <td>Tue Aug 15 13:23:18 -0700 2017</td>\n",
       "      <td>28</td>\n",
       "      <td>1</td>\n",
       "    </tr>\n",
       "    <tr>\n",
       "      <th>1</th>\n",
       "      <td>8842281e1d1347389f2ab93d60773d4d</td>\n",
       "      <td>16981</td>\n",
       "      <td>a5d2c3628987712d0e05c4f90798eb67</td>\n",
       "      <td>3</td>\n",
       "      <td>Recommended by Don Katz. Avail for free in Dec...</td>\n",
       "      <td>Mon Dec 05 10:46:44 -0800 2016</td>\n",
       "      <td>Wed Mar 22 11:37:04 -0700 2017</td>\n",
       "      <td>NaN</td>\n",
       "      <td>NaN</td>\n",
       "      <td>1</td>\n",
       "      <td>0</td>\n",
       "    </tr>\n",
       "    <tr>\n",
       "      <th>2</th>\n",
       "      <td>8842281e1d1347389f2ab93d60773d4d</td>\n",
       "      <td>28684704</td>\n",
       "      <td>2ede853b14dc4583f96cf5d120af636f</td>\n",
       "      <td>3</td>\n",
       "      <td>A fun, fast paced science fiction thriller. I ...</td>\n",
       "      <td>Tue Nov 15 11:29:22 -0800 2016</td>\n",
       "      <td>Mon Mar 20 23:40:27 -0700 2017</td>\n",
       "      <td>Sat Mar 18 23:22:42 -0700 2017</td>\n",
       "      <td>Fri Mar 17 23:45:40 -0700 2017</td>\n",
       "      <td>22</td>\n",
       "      <td>0</td>\n",
       "    </tr>\n",
       "    <tr>\n",
       "      <th>3</th>\n",
       "      <td>8842281e1d1347389f2ab93d60773d4d</td>\n",
       "      <td>27161156</td>\n",
       "      <td>ced5675e55cd9d38a524743f5c40996e</td>\n",
       "      <td>0</td>\n",
       "      <td>Recommended reading to understand what is goin...</td>\n",
       "      <td>Wed Nov 09 17:37:04 -0800 2016</td>\n",
       "      <td>Wed Nov 09 17:38:20 -0800 2016</td>\n",
       "      <td>NaN</td>\n",
       "      <td>NaN</td>\n",
       "      <td>5</td>\n",
       "      <td>1</td>\n",
       "    </tr>\n",
       "    <tr>\n",
       "      <th>4</th>\n",
       "      <td>8842281e1d1347389f2ab93d60773d4d</td>\n",
       "      <td>25884323</td>\n",
       "      <td>332732725863131279a8e345b63ac33e</td>\n",
       "      <td>4</td>\n",
       "      <td>I really enjoyed this book, and there is a lot...</td>\n",
       "      <td>Mon Apr 25 09:31:23 -0700 2016</td>\n",
       "      <td>Mon Apr 25 09:31:23 -0700 2016</td>\n",
       "      <td>Sun Jun 26 00:00:00 -0700 2016</td>\n",
       "      <td>Sat May 28 00:00:00 -0700 2016</td>\n",
       "      <td>9</td>\n",
       "      <td>1</td>\n",
       "    </tr>\n",
       "  </tbody>\n",
       "</table>\n",
       "</div>"
      ],
      "text/plain": [
       "                            user_id   book_id  \\\n",
       "0  8842281e1d1347389f2ab93d60773d4d  18245960   \n",
       "1  8842281e1d1347389f2ab93d60773d4d     16981   \n",
       "2  8842281e1d1347389f2ab93d60773d4d  28684704   \n",
       "3  8842281e1d1347389f2ab93d60773d4d  27161156   \n",
       "4  8842281e1d1347389f2ab93d60773d4d  25884323   \n",
       "\n",
       "                          review_id  rating  \\\n",
       "0  dfdbb7b0eb5a7e4c26d59a937e2e5feb       5   \n",
       "1  a5d2c3628987712d0e05c4f90798eb67       3   \n",
       "2  2ede853b14dc4583f96cf5d120af636f       3   \n",
       "3  ced5675e55cd9d38a524743f5c40996e       0   \n",
       "4  332732725863131279a8e345b63ac33e       4   \n",
       "\n",
       "                                         review_text  \\\n",
       "0  This is a special book. It started slow for ab...   \n",
       "1  Recommended by Don Katz. Avail for free in Dec...   \n",
       "2  A fun, fast paced science fiction thriller. I ...   \n",
       "3  Recommended reading to understand what is goin...   \n",
       "4  I really enjoyed this book, and there is a lot...   \n",
       "\n",
       "                       date_added                    date_updated  \\\n",
       "0  Sun Jul 30 07:44:10 -0700 2017  Wed Aug 30 00:00:26 -0700 2017   \n",
       "1  Mon Dec 05 10:46:44 -0800 2016  Wed Mar 22 11:37:04 -0700 2017   \n",
       "2  Tue Nov 15 11:29:22 -0800 2016  Mon Mar 20 23:40:27 -0700 2017   \n",
       "3  Wed Nov 09 17:37:04 -0800 2016  Wed Nov 09 17:38:20 -0800 2016   \n",
       "4  Mon Apr 25 09:31:23 -0700 2016  Mon Apr 25 09:31:23 -0700 2016   \n",
       "\n",
       "                          read_at                      started_at  n_votes  \\\n",
       "0  Sat Aug 26 12:05:52 -0700 2017  Tue Aug 15 13:23:18 -0700 2017       28   \n",
       "1                             NaN                             NaN        1   \n",
       "2  Sat Mar 18 23:22:42 -0700 2017  Fri Mar 17 23:45:40 -0700 2017       22   \n",
       "3                             NaN                             NaN        5   \n",
       "4  Sun Jun 26 00:00:00 -0700 2016  Sat May 28 00:00:00 -0700 2016        9   \n",
       "\n",
       "   n_comments  \n",
       "0           1  \n",
       "1           0  \n",
       "2           0  \n",
       "3           1  \n",
       "4           1  "
      ]
     },
     "execution_count": 2,
     "metadata": {},
     "output_type": "execute_result"
    }
   ],
   "source": [
    "df = pd.read_csv('json_to_excel.csv')\n",
    "df.head()"
   ]
  },
  {
   "cell_type": "code",
   "execution_count": 3,
   "id": "b6665f34-57ef-4c19-8059-d012e8f34d6e",
   "metadata": {},
   "outputs": [
    {
     "data": {
      "text/plain": [
       "(1378033, 11)"
      ]
     },
     "execution_count": 3,
     "metadata": {},
     "output_type": "execute_result"
    }
   ],
   "source": [
    "df.shape"
   ]
  },
  {
   "cell_type": "code",
   "execution_count": 4,
   "id": "1e251a77",
   "metadata": {},
   "outputs": [
    {
     "data": {
      "text/plain": [
       "964623"
      ]
     },
     "execution_count": 4,
     "metadata": {},
     "output_type": "execute_result"
    }
   ],
   "source": [
    "start_idx = int(len(df) * 0.7)\n",
    "start_idx"
   ]
  },
  {
   "cell_type": "code",
   "execution_count": 5,
   "id": "f9f22394",
   "metadata": {},
   "outputs": [
    {
     "data": {
      "text/html": [
       "<div>\n",
       "<style scoped>\n",
       "    .dataframe tbody tr th:only-of-type {\n",
       "        vertical-align: middle;\n",
       "    }\n",
       "\n",
       "    .dataframe tbody tr th {\n",
       "        vertical-align: top;\n",
       "    }\n",
       "\n",
       "    .dataframe thead th {\n",
       "        text-align: right;\n",
       "    }\n",
       "</style>\n",
       "<table border=\"1\" class=\"dataframe\">\n",
       "  <thead>\n",
       "    <tr style=\"text-align: right;\">\n",
       "      <th></th>\n",
       "      <th>user_id</th>\n",
       "      <th>book_id</th>\n",
       "      <th>review_id</th>\n",
       "      <th>rating</th>\n",
       "      <th>review_text</th>\n",
       "      <th>date_added</th>\n",
       "      <th>date_updated</th>\n",
       "      <th>read_at</th>\n",
       "      <th>started_at</th>\n",
       "      <th>n_votes</th>\n",
       "      <th>n_comments</th>\n",
       "    </tr>\n",
       "  </thead>\n",
       "  <tbody>\n",
       "    <tr>\n",
       "      <th>0</th>\n",
       "      <td>8842281e1d1347389f2ab93d60773d4d</td>\n",
       "      <td>18245960</td>\n",
       "      <td>dfdbb7b0eb5a7e4c26d59a937e2e5feb</td>\n",
       "      <td>5</td>\n",
       "      <td>This is a special book. It started slow for ab...</td>\n",
       "      <td>Sun Jul 30 07:44:10 -0700 2017</td>\n",
       "      <td>Wed Aug 30 00:00:26 -0700 2017</td>\n",
       "      <td>Sat Aug 26 12:05:52 -0700 2017</td>\n",
       "      <td>Tue Aug 15 13:23:18 -0700 2017</td>\n",
       "      <td>28</td>\n",
       "      <td>1</td>\n",
       "    </tr>\n",
       "    <tr>\n",
       "      <th>1</th>\n",
       "      <td>8842281e1d1347389f2ab93d60773d4d</td>\n",
       "      <td>16981</td>\n",
       "      <td>a5d2c3628987712d0e05c4f90798eb67</td>\n",
       "      <td>3</td>\n",
       "      <td>Recommended by Don Katz. Avail for free in Dec...</td>\n",
       "      <td>Mon Dec 05 10:46:44 -0800 2016</td>\n",
       "      <td>Wed Mar 22 11:37:04 -0700 2017</td>\n",
       "      <td>NaN</td>\n",
       "      <td>NaN</td>\n",
       "      <td>1</td>\n",
       "      <td>0</td>\n",
       "    </tr>\n",
       "    <tr>\n",
       "      <th>2</th>\n",
       "      <td>8842281e1d1347389f2ab93d60773d4d</td>\n",
       "      <td>28684704</td>\n",
       "      <td>2ede853b14dc4583f96cf5d120af636f</td>\n",
       "      <td>3</td>\n",
       "      <td>A fun, fast paced science fiction thriller. I ...</td>\n",
       "      <td>Tue Nov 15 11:29:22 -0800 2016</td>\n",
       "      <td>Mon Mar 20 23:40:27 -0700 2017</td>\n",
       "      <td>Sat Mar 18 23:22:42 -0700 2017</td>\n",
       "      <td>Fri Mar 17 23:45:40 -0700 2017</td>\n",
       "      <td>22</td>\n",
       "      <td>0</td>\n",
       "    </tr>\n",
       "    <tr>\n",
       "      <th>3</th>\n",
       "      <td>8842281e1d1347389f2ab93d60773d4d</td>\n",
       "      <td>27161156</td>\n",
       "      <td>ced5675e55cd9d38a524743f5c40996e</td>\n",
       "      <td>0</td>\n",
       "      <td>Recommended reading to understand what is goin...</td>\n",
       "      <td>Wed Nov 09 17:37:04 -0800 2016</td>\n",
       "      <td>Wed Nov 09 17:38:20 -0800 2016</td>\n",
       "      <td>NaN</td>\n",
       "      <td>NaN</td>\n",
       "      <td>5</td>\n",
       "      <td>1</td>\n",
       "    </tr>\n",
       "    <tr>\n",
       "      <th>4</th>\n",
       "      <td>8842281e1d1347389f2ab93d60773d4d</td>\n",
       "      <td>25884323</td>\n",
       "      <td>332732725863131279a8e345b63ac33e</td>\n",
       "      <td>4</td>\n",
       "      <td>I really enjoyed this book, and there is a lot...</td>\n",
       "      <td>Mon Apr 25 09:31:23 -0700 2016</td>\n",
       "      <td>Mon Apr 25 09:31:23 -0700 2016</td>\n",
       "      <td>Sun Jun 26 00:00:00 -0700 2016</td>\n",
       "      <td>Sat May 28 00:00:00 -0700 2016</td>\n",
       "      <td>9</td>\n",
       "      <td>1</td>\n",
       "    </tr>\n",
       "  </tbody>\n",
       "</table>\n",
       "</div>"
      ],
      "text/plain": [
       "                            user_id   book_id  \\\n",
       "0  8842281e1d1347389f2ab93d60773d4d  18245960   \n",
       "1  8842281e1d1347389f2ab93d60773d4d     16981   \n",
       "2  8842281e1d1347389f2ab93d60773d4d  28684704   \n",
       "3  8842281e1d1347389f2ab93d60773d4d  27161156   \n",
       "4  8842281e1d1347389f2ab93d60773d4d  25884323   \n",
       "\n",
       "                          review_id  rating  \\\n",
       "0  dfdbb7b0eb5a7e4c26d59a937e2e5feb       5   \n",
       "1  a5d2c3628987712d0e05c4f90798eb67       3   \n",
       "2  2ede853b14dc4583f96cf5d120af636f       3   \n",
       "3  ced5675e55cd9d38a524743f5c40996e       0   \n",
       "4  332732725863131279a8e345b63ac33e       4   \n",
       "\n",
       "                                         review_text  \\\n",
       "0  This is a special book. It started slow for ab...   \n",
       "1  Recommended by Don Katz. Avail for free in Dec...   \n",
       "2  A fun, fast paced science fiction thriller. I ...   \n",
       "3  Recommended reading to understand what is goin...   \n",
       "4  I really enjoyed this book, and there is a lot...   \n",
       "\n",
       "                       date_added                    date_updated  \\\n",
       "0  Sun Jul 30 07:44:10 -0700 2017  Wed Aug 30 00:00:26 -0700 2017   \n",
       "1  Mon Dec 05 10:46:44 -0800 2016  Wed Mar 22 11:37:04 -0700 2017   \n",
       "2  Tue Nov 15 11:29:22 -0800 2016  Mon Mar 20 23:40:27 -0700 2017   \n",
       "3  Wed Nov 09 17:37:04 -0800 2016  Wed Nov 09 17:38:20 -0800 2016   \n",
       "4  Mon Apr 25 09:31:23 -0700 2016  Mon Apr 25 09:31:23 -0700 2016   \n",
       "\n",
       "                          read_at                      started_at  n_votes  \\\n",
       "0  Sat Aug 26 12:05:52 -0700 2017  Tue Aug 15 13:23:18 -0700 2017       28   \n",
       "1                             NaN                             NaN        1   \n",
       "2  Sat Mar 18 23:22:42 -0700 2017  Fri Mar 17 23:45:40 -0700 2017       22   \n",
       "3                             NaN                             NaN        5   \n",
       "4  Sun Jun 26 00:00:00 -0700 2016  Sat May 28 00:00:00 -0700 2016        9   \n",
       "\n",
       "   n_comments  \n",
       "0           1  \n",
       "1           0  \n",
       "2           0  \n",
       "3           1  \n",
       "4           1  "
      ]
     },
     "execution_count": 5,
     "metadata": {},
     "output_type": "execute_result"
    }
   ],
   "source": [
    "df_train = df.iloc[:start_idx]\n",
    "df_train.head()"
   ]
  },
  {
   "cell_type": "code",
   "execution_count": 6,
   "id": "3c8a7f3c",
   "metadata": {},
   "outputs": [
    {
     "data": {
      "text/plain": [
       "(964623, 11)"
      ]
     },
     "execution_count": 6,
     "metadata": {},
     "output_type": "execute_result"
    }
   ],
   "source": [
    "df_train.shape"
   ]
  },
  {
   "cell_type": "code",
   "execution_count": 7,
   "id": "dd87cc72",
   "metadata": {},
   "outputs": [
    {
     "data": {
      "text/html": [
       "<div>\n",
       "<style scoped>\n",
       "    .dataframe tbody tr th:only-of-type {\n",
       "        vertical-align: middle;\n",
       "    }\n",
       "\n",
       "    .dataframe tbody tr th {\n",
       "        vertical-align: top;\n",
       "    }\n",
       "\n",
       "    .dataframe thead th {\n",
       "        text-align: right;\n",
       "    }\n",
       "</style>\n",
       "<table border=\"1\" class=\"dataframe\">\n",
       "  <thead>\n",
       "    <tr style=\"text-align: right;\">\n",
       "      <th></th>\n",
       "      <th>user_id</th>\n",
       "      <th>book_id</th>\n",
       "      <th>review_id</th>\n",
       "      <th>rating</th>\n",
       "      <th>review_text</th>\n",
       "      <th>date_added</th>\n",
       "      <th>date_updated</th>\n",
       "      <th>read_at</th>\n",
       "      <th>started_at</th>\n",
       "      <th>n_votes</th>\n",
       "      <th>n_comments</th>\n",
       "    </tr>\n",
       "  </thead>\n",
       "  <tbody>\n",
       "    <tr>\n",
       "      <th>964623</th>\n",
       "      <td>500d451862af597ef57b3b85817912b9</td>\n",
       "      <td>33009320</td>\n",
       "      <td>ed5b1212a053ed7d6ccc39db64af431c</td>\n",
       "      <td>2</td>\n",
       "      <td>Oh man. I wanted to love this book. I thought ...</td>\n",
       "      <td>Thu Sep 15 22:27:05 -0700 2016</td>\n",
       "      <td>Sun Dec 11 16:52:59 -0800 2016</td>\n",
       "      <td>Sun Nov 27 00:00:00 -0800 2016</td>\n",
       "      <td>NaN</td>\n",
       "      <td>0</td>\n",
       "      <td>0</td>\n",
       "    </tr>\n",
       "    <tr>\n",
       "      <th>964624</th>\n",
       "      <td>500d451862af597ef57b3b85817912b9</td>\n",
       "      <td>26074181</td>\n",
       "      <td>924764c0576d48ab45d21ee9eeae13ff</td>\n",
       "      <td>5</td>\n",
       "      <td>Well that was certainly the pairing I was root...</td>\n",
       "      <td>Thu Sep 15 22:25:24 -0700 2016</td>\n",
       "      <td>Mon Oct 31 17:29:24 -0700 2016</td>\n",
       "      <td>Sat Oct 22 00:00:00 -0700 2016</td>\n",
       "      <td>NaN</td>\n",
       "      <td>0</td>\n",
       "      <td>0</td>\n",
       "    </tr>\n",
       "    <tr>\n",
       "      <th>964625</th>\n",
       "      <td>500d451862af597ef57b3b85817912b9</td>\n",
       "      <td>22817331</td>\n",
       "      <td>f043315b04e55082ecb169e4615d7718</td>\n",
       "      <td>5</td>\n",
       "      <td>I will be sad and relieved when this trilogy i...</td>\n",
       "      <td>Thu Sep 15 22:19:18 -0700 2016</td>\n",
       "      <td>Fri Aug 25 15:58:39 -0700 2017</td>\n",
       "      <td>Sun Aug 13 00:00:00 -0700 2017</td>\n",
       "      <td>NaN</td>\n",
       "      <td>0</td>\n",
       "      <td>0</td>\n",
       "    </tr>\n",
       "    <tr>\n",
       "      <th>964626</th>\n",
       "      <td>500d451862af597ef57b3b85817912b9</td>\n",
       "      <td>28218953</td>\n",
       "      <td>76fea4e0f818f2aed4c4cb3906af6b75</td>\n",
       "      <td>5</td>\n",
       "      <td>I picked up this book because of all the revie...</td>\n",
       "      <td>Thu Sep 15 12:24:16 -0700 2016</td>\n",
       "      <td>Thu Sep 15 12:27:11 -0700 2016</td>\n",
       "      <td>Tue Sep 13 00:00:00 -0700 2016</td>\n",
       "      <td>NaN</td>\n",
       "      <td>0</td>\n",
       "      <td>0</td>\n",
       "    </tr>\n",
       "    <tr>\n",
       "      <th>964627</th>\n",
       "      <td>500d451862af597ef57b3b85817912b9</td>\n",
       "      <td>28220872</td>\n",
       "      <td>0ce5f04281b0dae7e7bc74ecb6e647ee</td>\n",
       "      <td>3</td>\n",
       "      <td>There's nothing great about these Fear Street ...</td>\n",
       "      <td>Sat Sep 03 14:45:27 -0700 2016</td>\n",
       "      <td>Thu Jan 19 14:27:50 -0800 2017</td>\n",
       "      <td>Wed Sep 28 00:00:00 -0700 2016</td>\n",
       "      <td>NaN</td>\n",
       "      <td>0</td>\n",
       "      <td>0</td>\n",
       "    </tr>\n",
       "  </tbody>\n",
       "</table>\n",
       "</div>"
      ],
      "text/plain": [
       "                                 user_id   book_id  \\\n",
       "964623  500d451862af597ef57b3b85817912b9  33009320   \n",
       "964624  500d451862af597ef57b3b85817912b9  26074181   \n",
       "964625  500d451862af597ef57b3b85817912b9  22817331   \n",
       "964626  500d451862af597ef57b3b85817912b9  28218953   \n",
       "964627  500d451862af597ef57b3b85817912b9  28220872   \n",
       "\n",
       "                               review_id  rating  \\\n",
       "964623  ed5b1212a053ed7d6ccc39db64af431c       2   \n",
       "964624  924764c0576d48ab45d21ee9eeae13ff       5   \n",
       "964625  f043315b04e55082ecb169e4615d7718       5   \n",
       "964626  76fea4e0f818f2aed4c4cb3906af6b75       5   \n",
       "964627  0ce5f04281b0dae7e7bc74ecb6e647ee       3   \n",
       "\n",
       "                                              review_text  \\\n",
       "964623  Oh man. I wanted to love this book. I thought ...   \n",
       "964624  Well that was certainly the pairing I was root...   \n",
       "964625  I will be sad and relieved when this trilogy i...   \n",
       "964626  I picked up this book because of all the revie...   \n",
       "964627  There's nothing great about these Fear Street ...   \n",
       "\n",
       "                            date_added                    date_updated  \\\n",
       "964623  Thu Sep 15 22:27:05 -0700 2016  Sun Dec 11 16:52:59 -0800 2016   \n",
       "964624  Thu Sep 15 22:25:24 -0700 2016  Mon Oct 31 17:29:24 -0700 2016   \n",
       "964625  Thu Sep 15 22:19:18 -0700 2016  Fri Aug 25 15:58:39 -0700 2017   \n",
       "964626  Thu Sep 15 12:24:16 -0700 2016  Thu Sep 15 12:27:11 -0700 2016   \n",
       "964627  Sat Sep 03 14:45:27 -0700 2016  Thu Jan 19 14:27:50 -0800 2017   \n",
       "\n",
       "                               read_at started_at  n_votes  n_comments  \n",
       "964623  Sun Nov 27 00:00:00 -0800 2016        NaN        0           0  \n",
       "964624  Sat Oct 22 00:00:00 -0700 2016        NaN        0           0  \n",
       "964625  Sun Aug 13 00:00:00 -0700 2017        NaN        0           0  \n",
       "964626  Tue Sep 13 00:00:00 -0700 2016        NaN        0           0  \n",
       "964627  Wed Sep 28 00:00:00 -0700 2016        NaN        0           0  "
      ]
     },
     "execution_count": 7,
     "metadata": {},
     "output_type": "execute_result"
    }
   ],
   "source": [
    "df_test = df.iloc[start_idx:]\n",
    "df_test.head()"
   ]
  },
  {
   "cell_type": "code",
   "execution_count": 8,
   "id": "6ae02841",
   "metadata": {},
   "outputs": [
    {
     "data": {
      "text/plain": [
       "(413410, 11)"
      ]
     },
     "execution_count": 8,
     "metadata": {},
     "output_type": "execute_result"
    }
   ],
   "source": [
    "df_test.shape"
   ]
  },
  {
   "cell_type": "markdown",
   "id": "60c0329a-a0be-4405-9d4c-a09c41e68718",
   "metadata": {
    "jp-MarkdownHeadingCollapsed": true
   },
   "source": [
    "## PREPROCESSING "
   ]
  },
  {
   "cell_type": "markdown",
   "id": "13f96438-5e1b-4ea5-83cb-0fdcb1d19516",
   "metadata": {},
   "source": [
    "In the preprocessing step we will take the review text columns and using different libraries we will remove stopwords, punctuations,urls,non_alpha and spoiler\n"
   ]
  },
  {
   "cell_type": "code",
   "execution_count": 9,
   "id": "7b4994d5-f2f0-47a6-b953-09e99ae40804",
   "metadata": {},
   "outputs": [
    {
     "name": "stderr",
     "output_type": "stream",
     "text": [
      "[nltk_data] Downloading package stopwords to\n",
      "[nltk_data]     C:\\Users\\HP\\AppData\\Roaming\\nltk_data...\n",
      "[nltk_data]   Package stopwords is already up-to-date!\n"
     ]
    }
   ],
   "source": [
    "import nltk\n",
    "nltk.download('stopwords')\n",
    "from nltk.corpus import stopwords\n",
    "\n",
    "stops=set(stopwords.words('english')) #imports stopwords from NLTK and creates a set containing common english words"
   ]
  },
  {
   "cell_type": "code",
   "execution_count": 10,
   "id": "552ce339-6549-481b-8d93-7b315fdb2240",
   "metadata": {},
   "outputs": [],
   "source": [
    "import re #a pattern used to match and manipulate text\n",
    "def remove_punctuations(data):\n",
    "    punct_tag=re.compile(r'[^\\w\\s]')\n",
    "    data=punct_tag.sub(r'',data)\n",
    "    return data"
   ]
  },
  {
   "cell_type": "code",
   "execution_count": 11,
   "id": "bc5c331a-155f-4034-bb6c-b218bad580b6",
   "metadata": {},
   "outputs": [
    {
     "name": "stderr",
     "output_type": "stream",
     "text": [
      "C:\\Users\\HP\\AppData\\Local\\Temp\\ipykernel_21160\\464950575.py:1: SettingWithCopyWarning: \n",
      "A value is trying to be set on a copy of a slice from a DataFrame.\n",
      "Try using .loc[row_indexer,col_indexer] = value instead\n",
      "\n",
      "See the caveats in the documentation: https://pandas.pydata.org/pandas-docs/stable/user_guide/indexing.html#returning-a-view-versus-a-copy\n",
      "  df_train['review_text']=df_train['review_text'].apply(lambda z: remove_punctuations(z)) #it uses lambda function to remove all punctuations from text in every row\n"
     ]
    }
   ],
   "source": [
    "df_train['review_text']=df_train['review_text'].apply(lambda z: remove_punctuations(z)) #it uses lambda function to remove all punctuations from text in every row"
   ]
  },
  {
   "cell_type": "code",
   "execution_count": 12,
   "id": "14a80e7f-df9b-49d9-96a6-69cb8822e9cd",
   "metadata": {},
   "outputs": [],
   "source": [
    "import re\n",
    "def remove_urls(text):\n",
    "    url = re.compile(r'https\\S+')\n",
    "    return url.sub(r' ',text)"
   ]
  },
  {
   "cell_type": "code",
   "execution_count": 13,
   "id": "867f02b9-08d7-4e23-9811-b112ca163abe",
   "metadata": {},
   "outputs": [
    {
     "name": "stderr",
     "output_type": "stream",
     "text": [
      "C:\\Users\\HP\\AppData\\Local\\Temp\\ipykernel_21160\\149046472.py:1: SettingWithCopyWarning: \n",
      "A value is trying to be set on a copy of a slice from a DataFrame.\n",
      "Try using .loc[row_indexer,col_indexer] = value instead\n",
      "\n",
      "See the caveats in the documentation: https://pandas.pydata.org/pandas-docs/stable/user_guide/indexing.html#returning-a-view-versus-a-copy\n",
      "  df_train['review_text']=df_train['review_text'].apply(lambda z: remove_urls(z)) #apply is used to remove URLs\n"
     ]
    }
   ],
   "source": [
    "df_train['review_text']=df_train['review_text'].apply(lambda z: remove_urls(z)) #apply is used to remove URLs"
   ]
  },
  {
   "cell_type": "code",
   "execution_count": 14,
   "id": "72def8a0-7d5f-4ac7-ba06-009d55bc189e",
   "metadata": {},
   "outputs": [],
   "source": [
    "def remove_non_alpha(text):        #removes all non-alphabetic characters\n",
    "    alpha=re.compile(r'[^a-zA-Z]') #using re\n",
    "    return alpha.sub(r' ',text)    #and the result contains only alphabetic characters and spaces"
   ]
  },
  {
   "cell_type": "code",
   "execution_count": 15,
   "id": "29342bf2-0b17-43b5-b73e-7f230ab679cf",
   "metadata": {},
   "outputs": [
    {
     "name": "stderr",
     "output_type": "stream",
     "text": [
      "C:\\Users\\HP\\AppData\\Local\\Temp\\ipykernel_21160\\2394808895.py:1: SettingWithCopyWarning: \n",
      "A value is trying to be set on a copy of a slice from a DataFrame.\n",
      "Try using .loc[row_indexer,col_indexer] = value instead\n",
      "\n",
      "See the caveats in the documentation: https://pandas.pydata.org/pandas-docs/stable/user_guide/indexing.html#returning-a-view-versus-a-copy\n",
      "  df_train['review_text']=df_train['review_text'].apply(lambda z: remove_non_alpha(z)) #removes characters that are not a-zA-Z\n"
     ]
    }
   ],
   "source": [
    "df_train['review_text']=df_train['review_text'].apply(lambda z: remove_non_alpha(z)) #removes characters that are not a-zA-Z"
   ]
  },
  {
   "cell_type": "code",
   "execution_count": 16,
   "id": "3d29d6fc-ce72-4010-a74f-1eb4dac67be3",
   "metadata": {},
   "outputs": [],
   "source": [
    "def remove_spoiler_alert(text):                                     #removes spoiler alerts from text\n",
    "    return re.sub(r'(\\(view spoiler\\).*?\\(hide spoiler\\))','',text) #and replaces any text between view and hide spoiler with an empty string"
   ]
  },
  {
   "cell_type": "code",
   "execution_count": 17,
   "id": "ee585ccb-51b3-4501-8d58-ca70db8ad326",
   "metadata": {},
   "outputs": [
    {
     "name": "stderr",
     "output_type": "stream",
     "text": [
      "C:\\Users\\HP\\AppData\\Local\\Temp\\ipykernel_21160\\2458257213.py:1: SettingWithCopyWarning: \n",
      "A value is trying to be set on a copy of a slice from a DataFrame.\n",
      "Try using .loc[row_indexer,col_indexer] = value instead\n",
      "\n",
      "See the caveats in the documentation: https://pandas.pydata.org/pandas-docs/stable/user_guide/indexing.html#returning-a-view-versus-a-copy\n",
      "  df_train['review_text']=df_train['review_text'].apply(lambda z: remove_spoiler_alert(z)) #the lambda function likely removes any spoiler alerts present\n"
     ]
    }
   ],
   "source": [
    "df_train['review_text']=df_train['review_text'].apply(lambda z: remove_spoiler_alert(z)) #the lambda function likely removes any spoiler alerts present"
   ]
  },
  {
   "cell_type": "code",
   "execution_count": 18,
   "id": "07f87645-36c9-4ffb-afe5-ee382064c456",
   "metadata": {},
   "outputs": [],
   "source": [
    "def remove(data):            #a regular expression is created that matches\n",
    "    clean= re.compile(r\"\\n\") #then substitutes them with an empty string \n",
    "    data=clean.sub(r'',data) #removing them from input\n",
    "    return data"
   ]
  },
  {
   "cell_type": "markdown",
   "id": "13338e98-1172-46e0-844b-1121504fb88c",
   "metadata": {
    "jp-MarkdownHeadingCollapsed": true
   },
   "source": [
    "## REVIEWING OUR EDITED DATASET"
   ]
  },
  {
   "cell_type": "code",
   "execution_count": 19,
   "id": "9fac5345-f87f-49c4-b75a-98860bb6bac3",
   "metadata": {},
   "outputs": [],
   "source": [
    "df1=df_train[['review_text','rating']]"
   ]
  },
  {
   "cell_type": "code",
   "execution_count": 20,
   "id": "21f424a1-0bf7-492f-a1f1-c865bd20874f",
   "metadata": {},
   "outputs": [
    {
     "data": {
      "text/html": [
       "<div>\n",
       "<style scoped>\n",
       "    .dataframe tbody tr th:only-of-type {\n",
       "        vertical-align: middle;\n",
       "    }\n",
       "\n",
       "    .dataframe tbody tr th {\n",
       "        vertical-align: top;\n",
       "    }\n",
       "\n",
       "    .dataframe thead th {\n",
       "        text-align: right;\n",
       "    }\n",
       "</style>\n",
       "<table border=\"1\" class=\"dataframe\">\n",
       "  <thead>\n",
       "    <tr style=\"text-align: right;\">\n",
       "      <th></th>\n",
       "      <th>review_text</th>\n",
       "      <th>rating</th>\n",
       "    </tr>\n",
       "  </thead>\n",
       "  <tbody>\n",
       "    <tr>\n",
       "      <th>0</th>\n",
       "      <td>This is a special book It started slow for abo...</td>\n",
       "      <td>5</td>\n",
       "    </tr>\n",
       "    <tr>\n",
       "      <th>1</th>\n",
       "      <td>Recommended by Don Katz Avail for free in Dece...</td>\n",
       "      <td>3</td>\n",
       "    </tr>\n",
       "    <tr>\n",
       "      <th>2</th>\n",
       "      <td>A fun fast paced science fiction thriller I re...</td>\n",
       "      <td>3</td>\n",
       "    </tr>\n",
       "    <tr>\n",
       "      <th>3</th>\n",
       "      <td>Recommended reading to understand what is goin...</td>\n",
       "      <td>0</td>\n",
       "    </tr>\n",
       "    <tr>\n",
       "      <th>4</th>\n",
       "      <td>I really enjoyed this book and there is a lot ...</td>\n",
       "      <td>4</td>\n",
       "    </tr>\n",
       "    <tr>\n",
       "      <th>...</th>\n",
       "      <td>...</td>\n",
       "      <td>...</td>\n",
       "    </tr>\n",
       "    <tr>\n",
       "      <th>964618</th>\n",
       "      <td>Gorgeous</td>\n",
       "      <td>5</td>\n",
       "    </tr>\n",
       "    <tr>\n",
       "      <th>964619</th>\n",
       "      <td>I love magical realism but this book just did ...</td>\n",
       "      <td>3</td>\n",
       "    </tr>\n",
       "    <tr>\n",
       "      <th>964620</th>\n",
       "      <td>I love the creepyweird and magical atmosphere ...</td>\n",
       "      <td>3</td>\n",
       "    </tr>\n",
       "    <tr>\n",
       "      <th>964621</th>\n",
       "      <td>There is nothing about this that I didnt love</td>\n",
       "      <td>5</td>\n",
       "    </tr>\n",
       "    <tr>\n",
       "      <th>964622</th>\n",
       "      <td>Holy crap We knew Levana was insane but I wasn...</td>\n",
       "      <td>5</td>\n",
       "    </tr>\n",
       "  </tbody>\n",
       "</table>\n",
       "<p>964623 rows × 2 columns</p>\n",
       "</div>"
      ],
      "text/plain": [
       "                                              review_text  rating\n",
       "0       This is a special book It started slow for abo...       5\n",
       "1       Recommended by Don Katz Avail for free in Dece...       3\n",
       "2       A fun fast paced science fiction thriller I re...       3\n",
       "3       Recommended reading to understand what is goin...       0\n",
       "4       I really enjoyed this book and there is a lot ...       4\n",
       "...                                                   ...     ...\n",
       "964618                                           Gorgeous       5\n",
       "964619  I love magical realism but this book just did ...       3\n",
       "964620  I love the creepyweird and magical atmosphere ...       3\n",
       "964621      There is nothing about this that I didnt love       5\n",
       "964622  Holy crap We knew Levana was insane but I wasn...       5\n",
       "\n",
       "[964623 rows x 2 columns]"
      ]
     },
     "execution_count": 20,
     "metadata": {},
     "output_type": "execute_result"
    }
   ],
   "source": [
    "df1"
   ]
  },
  {
   "cell_type": "code",
   "execution_count": 21,
   "id": "f5cad229-efff-42a8-90ec-adcc3dd51ad8",
   "metadata": {},
   "outputs": [
    {
     "name": "stderr",
     "output_type": "stream",
     "text": [
      "C:\\Users\\HP\\AppData\\Local\\Temp\\ipykernel_21160\\3850304709.py:1: SettingWithCopyWarning: \n",
      "A value is trying to be set on a copy of a slice from a DataFrame.\n",
      "Try using .loc[row_indexer,col_indexer] = value instead\n",
      "\n",
      "See the caveats in the documentation: https://pandas.pydata.org/pandas-docs/stable/user_guide/indexing.html#returning-a-view-versus-a-copy\n",
      "  df1['review_text']=df1['review_text'].apply(lambda z: z.lower()) #converting text to lowercase using lambda function\n"
     ]
    }
   ],
   "source": [
    "df1['review_text']=df1['review_text'].apply(lambda z: z.lower()) #converting text to lowercase using lambda function"
   ]
  },
  {
   "cell_type": "code",
   "execution_count": 22,
   "id": "d0dddd76-c235-478f-995d-3d88a8f83637",
   "metadata": {},
   "outputs": [
    {
     "data": {
      "text/plain": [
       "12386"
      ]
     },
     "execution_count": 22,
     "metadata": {},
     "output_type": "execute_result"
    }
   ],
   "source": [
    "df1.duplicated().sum() #checks for duplicated rows and returns a boolean series, which is then summed up to count the true values"
   ]
  },
  {
   "cell_type": "code",
   "execution_count": 23,
   "id": "417b9724-5e32-4b0f-8ed1-344d61d1a99c",
   "metadata": {},
   "outputs": [],
   "source": [
    "df1=df1.drop_duplicates() #only left with unique rows dropping the duplicates"
   ]
  },
  {
   "cell_type": "code",
   "execution_count": 24,
   "id": "69db0f10-5a35-4813-b8aa-ca856c021357",
   "metadata": {},
   "outputs": [],
   "source": [
    "df2=df1.copy() #creating copy of df1 as df2, changes won't affect df1"
   ]
  },
  {
   "cell_type": "code",
   "execution_count": 25,
   "id": "81f14f80-76cc-4cc3-bf90-3e9d51aabbd3",
   "metadata": {},
   "outputs": [
    {
     "data": {
      "text/html": [
       "<div>\n",
       "<style scoped>\n",
       "    .dataframe tbody tr th:only-of-type {\n",
       "        vertical-align: middle;\n",
       "    }\n",
       "\n",
       "    .dataframe tbody tr th {\n",
       "        vertical-align: top;\n",
       "    }\n",
       "\n",
       "    .dataframe thead th {\n",
       "        text-align: right;\n",
       "    }\n",
       "</style>\n",
       "<table border=\"1\" class=\"dataframe\">\n",
       "  <thead>\n",
       "    <tr style=\"text-align: right;\">\n",
       "      <th></th>\n",
       "      <th>review_text</th>\n",
       "      <th>rating</th>\n",
       "    </tr>\n",
       "  </thead>\n",
       "  <tbody>\n",
       "    <tr>\n",
       "      <th>0</th>\n",
       "      <td>special book started slow first third middle t...</td>\n",
       "      <td>5</td>\n",
       "    </tr>\n",
       "    <tr>\n",
       "      <th>1</th>\n",
       "      <td>recommended katz avail free december httpwwwau...</td>\n",
       "      <td>3</td>\n",
       "    </tr>\n",
       "    <tr>\n",
       "      <th>2</th>\n",
       "      <td>fun fast paced science fiction thriller read n...</td>\n",
       "      <td>3</td>\n",
       "    </tr>\n",
       "    <tr>\n",
       "      <th>3</th>\n",
       "      <td>recommended reading understand going middle am...</td>\n",
       "      <td>0</td>\n",
       "    </tr>\n",
       "    <tr>\n",
       "      <th>4</th>\n",
       "      <td>really enjoyed book lot recommend drag little ...</td>\n",
       "      <td>4</td>\n",
       "    </tr>\n",
       "  </tbody>\n",
       "</table>\n",
       "</div>"
      ],
      "text/plain": [
       "                                         review_text  rating\n",
       "0  special book started slow first third middle t...       5\n",
       "1  recommended katz avail free december httpwwwau...       3\n",
       "2  fun fast paced science fiction thriller read n...       3\n",
       "3  recommended reading understand going middle am...       0\n",
       "4  really enjoyed book lot recommend drag little ...       4"
      ]
     },
     "execution_count": 25,
     "metadata": {},
     "output_type": "execute_result"
    }
   ],
   "source": [
    "STOPWORDS = set(stopwords.words('english'))                                         #remove english stopwords\n",
    "def remove_stopwords(text):                                                         #applies function to 'review-text' column\n",
    "    \"\"\"custom function to remove the stopwords\"\"\"                                   #and assigns results back\n",
    "    return \" \".join([word for word in str(text).split() if word not in STOPWORDS])  #to the same column\n",
    "\n",
    "df2[\"review_text\"] = df2[\"review_text\"].apply(lambda text: remove_stopwords(text))\n",
    "df2.head()"
   ]
  },
  {
   "cell_type": "code",
   "execution_count": 26,
   "id": "99250974-dfaa-45b3-bcb3-bd1755fff3b6",
   "metadata": {},
   "outputs": [
    {
     "data": {
      "text/plain": [
       "3461"
      ]
     },
     "execution_count": 26,
     "metadata": {},
     "output_type": "execute_result"
    }
   ],
   "source": [
    "df2.duplicated().sum()"
   ]
  },
  {
   "cell_type": "code",
   "execution_count": 27,
   "id": "b9d42ef5-acd8-4498-9cb8-10b0c3f68060",
   "metadata": {},
   "outputs": [],
   "source": [
    "df2=df2.drop_duplicates()"
   ]
  },
  {
   "cell_type": "code",
   "execution_count": 28,
   "id": "2a1c9d2c-d61c-4daa-9f18-d8e560426d6e",
   "metadata": {},
   "outputs": [
    {
     "data": {
      "text/html": [
       "<div>\n",
       "<style scoped>\n",
       "    .dataframe tbody tr th:only-of-type {\n",
       "        vertical-align: middle;\n",
       "    }\n",
       "\n",
       "    .dataframe tbody tr th {\n",
       "        vertical-align: top;\n",
       "    }\n",
       "\n",
       "    .dataframe thead th {\n",
       "        text-align: right;\n",
       "    }\n",
       "</style>\n",
       "<table border=\"1\" class=\"dataframe\">\n",
       "  <thead>\n",
       "    <tr style=\"text-align: right;\">\n",
       "      <th></th>\n",
       "      <th>review_text</th>\n",
       "      <th>rating</th>\n",
       "    </tr>\n",
       "  </thead>\n",
       "  <tbody>\n",
       "    <tr>\n",
       "      <th>0</th>\n",
       "      <td>special book started slow first third middle t...</td>\n",
       "      <td>5</td>\n",
       "    </tr>\n",
       "    <tr>\n",
       "      <th>1</th>\n",
       "      <td>recommended katz avail free december httpwwwau...</td>\n",
       "      <td>3</td>\n",
       "    </tr>\n",
       "    <tr>\n",
       "      <th>2</th>\n",
       "      <td>fun fast paced science fiction thriller read n...</td>\n",
       "      <td>3</td>\n",
       "    </tr>\n",
       "    <tr>\n",
       "      <th>3</th>\n",
       "      <td>recommended reading understand going middle am...</td>\n",
       "      <td>0</td>\n",
       "    </tr>\n",
       "    <tr>\n",
       "      <th>4</th>\n",
       "      <td>really enjoyed book lot recommend drag little ...</td>\n",
       "      <td>4</td>\n",
       "    </tr>\n",
       "    <tr>\n",
       "      <th>...</th>\n",
       "      <td>...</td>\n",
       "      <td>...</td>\n",
       "    </tr>\n",
       "    <tr>\n",
       "      <th>964617</th>\n",
       "      <td>know book trying love movie princess bride yet...</td>\n",
       "      <td>2</td>\n",
       "    </tr>\n",
       "    <tr>\n",
       "      <th>964619</th>\n",
       "      <td>love magical realism book work slow slow begin...</td>\n",
       "      <td>3</td>\n",
       "    </tr>\n",
       "    <tr>\n",
       "      <th>964620</th>\n",
       "      <td>love creepyweird magical atmosphere love dexte...</td>\n",
       "      <td>3</td>\n",
       "    </tr>\n",
       "    <tr>\n",
       "      <th>964621</th>\n",
       "      <td>nothing didnt love</td>\n",
       "      <td>5</td>\n",
       "    </tr>\n",
       "    <tr>\n",
       "      <th>964622</th>\n",
       "      <td>holy crap knew levana insane wasnt expecting w...</td>\n",
       "      <td>5</td>\n",
       "    </tr>\n",
       "  </tbody>\n",
       "</table>\n",
       "<p>948776 rows × 2 columns</p>\n",
       "</div>"
      ],
      "text/plain": [
       "                                              review_text  rating\n",
       "0       special book started slow first third middle t...       5\n",
       "1       recommended katz avail free december httpwwwau...       3\n",
       "2       fun fast paced science fiction thriller read n...       3\n",
       "3       recommended reading understand going middle am...       0\n",
       "4       really enjoyed book lot recommend drag little ...       4\n",
       "...                                                   ...     ...\n",
       "964617  know book trying love movie princess bride yet...       2\n",
       "964619  love magical realism book work slow slow begin...       3\n",
       "964620  love creepyweird magical atmosphere love dexte...       3\n",
       "964621                                 nothing didnt love       5\n",
       "964622  holy crap knew levana insane wasnt expecting w...       5\n",
       "\n",
       "[948776 rows x 2 columns]"
      ]
     },
     "execution_count": 28,
     "metadata": {},
     "output_type": "execute_result"
    }
   ],
   "source": [
    "df2"
   ]
  },
  {
   "cell_type": "markdown",
   "id": "bff1d225-3211-4e08-81ab-d44bbff9f5f5",
   "metadata": {
    "jp-MarkdownHeadingCollapsed": true
   },
   "source": [
    "## MODEL BUILDING"
   ]
  },
  {
   "cell_type": "markdown",
   "id": "ddfbaeb8-1c83-43ef-9cf5-1395df67973a",
   "metadata": {},
   "source": [
    "Now we will start building our model by first calculating Tfidfvector matrix."
   ]
  },
  {
   "cell_type": "code",
   "execution_count": 29,
   "id": "364bc235-e427-46c8-8763-8214a0349b68",
   "metadata": {},
   "outputs": [],
   "source": [
    "from sklearn.feature_extraction.text import TfidfVectorizer\n",
    "vectorizer = TfidfVectorizer() # Tfid vectorizer creates a matrix for the sentences based on word frequency/importance"
   ]
  },
  {
   "cell_type": "code",
   "execution_count": 30,
   "id": "4153edec-2951-4595-9ed3-1d95de1c21ab",
   "metadata": {},
   "outputs": [],
   "source": [
    "from sklearn.feature_extraction.text import TfidfVectorizer #creates an instance\n",
    "tfid_matrix=vectorizer.fit_transform(df2['review_text'])    #and then the column gets transformed by method into a matrix of Tfidf feature"
   ]
  },
  {
   "cell_type": "code",
   "execution_count": 31,
   "id": "7dcd8b5f-5621-42db-8c55-004056bfe398",
   "metadata": {},
   "outputs": [
    {
     "data": {
      "text/plain": [
       "<948776x676703 sparse matrix of type '<class 'numpy.float64'>'\n",
       "\twith 72724832 stored elements in Compressed Sparse Row format>"
      ]
     },
     "execution_count": 31,
     "metadata": {},
     "output_type": "execute_result"
    }
   ],
   "source": [
    "tfid_matrix #used to identify importance of each word, calculates term frequency * inverse document frequency for every word in the collection"
   ]
  },
  {
   "cell_type": "code",
   "execution_count": 32,
   "id": "a4594982-80c7-4d55-8864-d1a87f84514c",
   "metadata": {},
   "outputs": [],
   "source": [
    "y=df2['rating'] #assigning rating column to variable 'y'\n",
    "X=tfid_matrix   #assigning value to matrix to 'X'"
   ]
  },
  {
   "cell_type": "code",
   "execution_count": 33,
   "id": "acb1a873-1eef-4f23-952d-0be9583b8b20",
   "metadata": {},
   "outputs": [
    {
     "data": {
      "text/plain": [
       "<948776x676703 sparse matrix of type '<class 'numpy.float64'>'\n",
       "\twith 72724832 stored elements in Compressed Sparse Row format>"
      ]
     },
     "execution_count": 33,
     "metadata": {},
     "output_type": "execute_result"
    }
   ],
   "source": [
    "X"
   ]
  },
  {
   "cell_type": "code",
   "execution_count": 34,
   "id": "dae4244b-723b-462b-b1dd-21c02d132584",
   "metadata": {},
   "outputs": [],
   "source": [
    "from sklearn.decomposition import TruncatedSVD\n",
    "from scipy.sparse import csr_matrix\n",
    "#We use truncated singular value decomposition as it works well with the sparse matrix tfid vectorization created\n",
    "#We only reduce the dimensions to a 100 however better model performance is achieved for a higher number of components\n",
    "#If we use the premium gpu on google collab pro we can do this and achieve optimal performance at around 400-500 components.\n",
    "\n",
    "svd = TruncatedSVD(n_components=50) # reduce to 200 components\n",
    "\n",
    "# Convert sparse matrix to Compressed Sparse Row (CSR) format\n",
    "X_csr = csr_matrix(tfid_matrix)\n",
    "\n",
    "# Apply Truncated SVD on the sparse matrix\n",
    "X = svd.fit_transform(X_csr)"
   ]
  },
  {
   "cell_type": "code",
   "execution_count": 35,
   "id": "1798e27a-f3e9-4ac2-934a-587963973b46",
   "metadata": {},
   "outputs": [],
   "source": [
    "y=df2['rating'].astype('int64')"
   ]
  },
  {
   "cell_type": "code",
   "execution_count": 36,
   "id": "1043339b-4077-4385-a396-f3077d2a221c",
   "metadata": {},
   "outputs": [
    {
     "data": {
      "text/plain": [
       "0         5\n",
       "1         3\n",
       "2         3\n",
       "3         0\n",
       "4         4\n",
       "         ..\n",
       "964617    2\n",
       "964619    3\n",
       "964620    3\n",
       "964621    5\n",
       "964622    5\n",
       "Name: rating, Length: 948776, dtype: int64"
      ]
     },
     "execution_count": 36,
     "metadata": {},
     "output_type": "execute_result"
    }
   ],
   "source": [
    "y"
   ]
  },
  {
   "cell_type": "code",
   "execution_count": 37,
   "id": "5bb9e35d-eeed-4380-b77a-90b7ee81ed76",
   "metadata": {},
   "outputs": [
    {
     "data": {
      "text/plain": [
       "0         4\n",
       "1         2\n",
       "2         2\n",
       "3        -1\n",
       "4         3\n",
       "         ..\n",
       "964617    1\n",
       "964619    2\n",
       "964620    2\n",
       "964621    4\n",
       "964622    4\n",
       "Name: rating, Length: 948776, dtype: int64"
      ]
     },
     "execution_count": 37,
     "metadata": {},
     "output_type": "execute_result"
    }
   ],
   "source": [
    "# Tensorflow works with labels starting from 0 while our labels start from 1\n",
    "# We subtract 1 from each label so the one-hot encoding creates 5 classes instead of 6\n",
    "#We reverse this when predicting on the test data to get the original labels back\n",
    "\n",
    "y=y-1\n",
    "y"
   ]
  },
  {
   "cell_type": "code",
   "execution_count": 38,
   "id": "f213fef8",
   "metadata": {},
   "outputs": [],
   "source": [
    "#from sklearn.model_selection import train_test_split\n",
    "#X_train, X_test, y_train, y_test = train_test_split(X, y, test_size=0.2, random_state=42)"
   ]
  },
  {
   "cell_type": "code",
   "execution_count": 39,
   "id": "de344b38-f647-48a7-a579-eed4dfd045ad",
   "metadata": {},
   "outputs": [],
   "source": [
    "from tensorflow.keras.utils import to_categorical\n",
    "y_onehot = to_categorical(y,num_classes=5)\n"
   ]
  },
  {
   "cell_type": "code",
   "execution_count": 40,
   "id": "45864520-f4ca-4f23-8d3c-5fc0e5442498",
   "metadata": {},
   "outputs": [
    {
     "data": {
      "text/plain": [
       "array([[0., 0., 0., 0., 1.],\n",
       "       [0., 0., 1., 0., 0.],\n",
       "       [0., 0., 1., 0., 0.],\n",
       "       ...,\n",
       "       [0., 0., 1., 0., 0.],\n",
       "       [0., 0., 0., 0., 1.],\n",
       "       [0., 0., 0., 0., 1.]], dtype=float32)"
      ]
     },
     "execution_count": 40,
     "metadata": {},
     "output_type": "execute_result"
    }
   ],
   "source": [
    "y_onehot\n"
   ]
  },
  {
   "cell_type": "code",
   "execution_count": 41,
   "id": "c3303d2e-4a33-4322-9012-961b52bc44a7",
   "metadata": {},
   "outputs": [
    {
     "data": {
      "text/plain": [
       "(948776, 5)"
      ]
     },
     "execution_count": 41,
     "metadata": {},
     "output_type": "execute_result"
    }
   ],
   "source": [
    "y_onehot.shape"
   ]
  },
  {
   "cell_type": "code",
   "execution_count": 42,
   "id": "e77e1e4a-671b-4c16-9127-713d538c88a3",
   "metadata": {},
   "outputs": [],
   "source": [
    "y_val=y_onehot[:4000]\n",
    "X_val=X[:4000]\n",
    "y_train=y_onehot[4000:]\n",
    "X_train=X[4000:]"
   ]
  },
  {
   "cell_type": "markdown",
   "id": "d7609774-9f35-4222-8202-fed8cd7d7c4e",
   "metadata": {
    "jp-MarkdownHeadingCollapsed": true
   },
   "source": [
    "## Naive Bayes"
   ]
  },
  {
   "cell_type": "code",
   "execution_count": 43,
   "id": "0cafebd1-8db8-4aa0-9bf5-e2330a88e523",
   "metadata": {},
   "outputs": [
    {
     "data": {
      "text/plain": [
       "0.40075"
      ]
     },
     "execution_count": 43,
     "metadata": {},
     "output_type": "execute_result"
    }
   ],
   "source": [
    "#Baseline Naive bayes classifer\n",
    "from sklearn.naive_bayes import GaussianNB #used for classification tasks and assumes that the features are normally distributed\n",
    "from sklearn.metrics import accuracy_score #to evaluate the accuracy of classification models by comparing predicted and actual labels\n",
    "model=GaussianNB()                              #predict the ratings for the validation data,\n",
    "model.fit(X_train,(df2['rating'])[4000:])       #and calculates the accuracy score between the predicted ratings\n",
    "y_pred=model.predict(X_val)                     #and the actual ratings for the first 4000 rows of the rating column in df2\n",
    "accuracy_score(y_pred,(df2['rating'])[:4000])"
   ]
  },
  {
   "cell_type": "markdown",
   "id": "18badd49-020e-4207-8afe-ac9ffa4220bb",
   "metadata": {
    "jp-MarkdownHeadingCollapsed": true
   },
   "source": [
    "## LSTM"
   ]
  },
  {
   "cell_type": "code",
   "execution_count": 44,
   "id": "8bca651a-d25c-4fa8-b2cb-40898a3bff2f",
   "metadata": {},
   "outputs": [],
   "source": [
    "#LSTM NEEDS THIS SHAPE (rows,timesteps,features)\n",
    "X_train_lstm=X_train.reshape(-1,1,50)\n",
    "X_val_lstm=X_val.reshape(-1,1,50)"
   ]
  },
  {
   "cell_type": "code",
   "execution_count": 45,
   "id": "e95c9872-1bc4-462f-80c7-d9397f2867ec",
   "metadata": {},
   "outputs": [
    {
     "name": "stdout",
     "output_type": "stream",
     "text": [
      "Epoch 1/5\n",
      "29525/29525 [==============================] - 180s 6ms/step - loss: 1.2032 - accuracy: 0.4649 - val_loss: 1.0784 - val_accuracy: 0.4920\n",
      "Epoch 2/5\n",
      "29525/29525 [==============================] - 169s 6ms/step - loss: 1.1874 - accuracy: 0.4716 - val_loss: 1.0754 - val_accuracy: 0.4875\n",
      "Epoch 3/5\n",
      "29525/29525 [==============================] - 169s 6ms/step - loss: 1.1818 - accuracy: 0.4730 - val_loss: 1.0721 - val_accuracy: 0.4870\n",
      "Epoch 4/5\n",
      "29525/29525 [==============================] - 168s 6ms/step - loss: 1.1800 - accuracy: 0.4739 - val_loss: 1.0628 - val_accuracy: 0.4940\n",
      "Epoch 5/5\n",
      "29525/29525 [==============================] - 167s 6ms/step - loss: 1.1790 - accuracy: 0.4749 - val_loss: 1.0688 - val_accuracy: 0.4950\n"
     ]
    }
   ],
   "source": [
    "from keras.models import Sequential\n",
    "from keras.layers import LSTM, Dense, Embedding\n",
    "from gensim.models import Word2Vec\n",
    "from tensorflow.keras.optimizers.legacy import Adam\n",
    "\n",
    "\n",
    "\n",
    "# LSTM model architecture\n",
    "model1 = Sequential()\n",
    "model1.add(LSTM(units=5, input_shape=(1, 50), activation='tanh'))\n",
    "model1.add(BatchNormalization())\n",
    "model1.add(Dropout(0.3))\n",
    "model1.add(Dense(units=5, activation='softmax'))\n",
    "\n",
    "# Compiling model\n",
    "model1.compile(optimizer='adam', loss='categorical_crossentropy', metrics=['accuracy'])\n",
    "model_lstm=model1\n",
    "history=model_lstm.fit(X_train_lstm,y_train,epochs=5,validation_data=(X_val_lstm,y_val))\n"
   ]
  },
  {
   "cell_type": "code",
   "execution_count": 46,
   "id": "c85642c1-f57a-47d6-a07c-9fcd63674ec6",
   "metadata": {},
   "outputs": [
    {
     "data": {
      "image/png": "[encoded data removed]",
      "text/plain": [
       "<Figure size 432x288 with 1 Axes>"
      ]
     },
     "metadata": {
      "needs_background": "light"
     },
     "output_type": "display_data"
    },
    {
     "data": {
      "image/png": "[encoded data removed]",
      "text/plain": [
       "<Figure size 432x288 with 1 Axes>"
      ]
     },
     "metadata": {
      "needs_background": "light"
     },
     "output_type": "display_data"
    }
   ],
   "source": [
    "import numpy as np\n",
    "import pandas as pd\n",
    "import matplotlib.pyplot as plt\n",
    "\n",
    "#defining the function to plot the training and validation metrics\n",
    "def plot_metrics(history):                                            #object containing training and validation loss values\n",
    "    plt.plot(history.history['loss'])\n",
    "    plt.plot(history.history['val_loss'])\n",
    "    plt.title('Model Loss')                                           #plots\n",
    "    plt.ylabel('Loss')                                                #loss on y-axis\n",
    "    plt.xlabel('Epoch')                                               #epoch on x-axis\n",
    "    plt.legend(['train', 'val'], loc='upper right')\n",
    "    plt.show()\n",
    "\n",
    "    plt.plot(history.history['accuracy'])\n",
    "    plt.plot(history.history['val_accuracy'])\n",
    "    plt.title('Model Accuracy')                                       #plots\n",
    "    plt.ylabel('Accuracy')                                            #accuracy on y-axis\n",
    "    plt.xlabel('Epoch')                                               #epoch on x-axis\n",
    "    plt.legend(['train', 'val'], loc='lower right')\n",
    "    plt.show()\n",
    "\n",
    "plot_metrics(history)"
   ]
  },
  {
   "cell_type": "code",
   "execution_count": 47,
   "id": "b36bf4fa-249e-4b12-865f-8b5ae5525a04",
   "metadata": {},
   "outputs": [
    {
     "name": "stdout",
     "output_type": "stream",
     "text": [
      "      Training Accuracy  Testing Accuracy  Training Loss  Testing Loss\n",
      "0              0.464924          0.492000       1.203181      1.078356\n",
      "1              0.471638          0.487500       1.187365      1.075350\n",
      "2              0.473033          0.487000       1.181829      1.072071\n",
      "3              0.473873          0.494000       1.180045      1.062840\n",
      "4              0.474936          0.495000       1.178972      1.068790\n",
      "Mean           0.471681          0.491100       1.186278      1.071481\n",
      "Std            0.003965          0.003681       0.009986      0.006010\n"
     ]
    }
   ],
   "source": [
    "df_results = pd.DataFrame({'Training Accuracy': history.history['accuracy'],\n",
    "                   'Testing Accuracy': history.history['val_accuracy'],\n",
    "                   'Training Loss': history.history['loss'],\n",
    "                   'Testing Loss': history.history['val_loss']})\n",
    "\n",
    "#adding mean and standard deviation to dataframe\n",
    "mean = df_results.mean()\n",
    "std = df_results.std()\n",
    "\n",
    "#adding the mean and standard deviation as a new row to the dataframe\n",
    "df_results.loc['Mean'] = mean\n",
    "df_results.loc['Std'] = std\n",
    "\n",
    "#displaying dataframe\n",
    "print(df_results)"
   ]
  },
  {
   "cell_type": "markdown",
   "id": "82125617-7b52-4a0c-a79f-bac683708a42",
   "metadata": {
    "jp-MarkdownHeadingCollapsed": true
   },
   "source": [
    "## 3 layer model"
   ]
  },
  {
   "cell_type": "code",
   "execution_count": 48,
   "id": "4ab13cb4-702b-47b8-9c39-12a5dc5ce39c",
   "metadata": {},
   "outputs": [
    {
     "name": "stdout",
     "output_type": "stream",
     "text": [
      "Model: \"sequential_1\"\n",
      "_________________________________________________________________\n",
      " Layer (type)                Output Shape              Param #   \n",
      "=================================================================\n",
      " flatten (Flatten)           (None, 50)                0         \n",
      "                                                                 \n",
      " dense_1 (Dense)             (None, 128)               6528      \n",
      "                                                                 \n",
      " dense_2 (Dense)             (None, 64)                8256      \n",
      "                                                                 \n",
      " dense_3 (Dense)             (None, 5)                 325       \n",
      "                                                                 \n",
      "=================================================================\n",
      "Total params: 15109 (59.02 KB)\n",
      "Trainable params: 15109 (59.02 KB)\n",
      "Non-trainable params: 0 (0.00 Byte)\n",
      "_________________________________________________________________\n"
     ]
    }
   ],
   "source": [
    "import tensorflow as tf\n",
    "#3 layer\n",
    "input_shape = (1, 50) #defining the input shape\n",
    "\n",
    "#defining hidden layer sizes\n",
    "hidden_dim_1 = 128\n",
    "hidden_dim_2 = 64\n",
    "\n",
    "output_dim = 5 #defining the number of output categories\n",
    "\n",
    "model = tf.keras.models.Sequential([                            #defining model architecture\n",
    "    tf.keras.layers.Flatten(input_shape=input_shape),\n",
    "    tf.keras.layers.Dense(hidden_dim_1, activation='relu'),\n",
    "    tf.keras.layers.Dense(hidden_dim_2, activation='relu'),\n",
    "    tf.keras.layers.Dense(output_dim, activation='softmax')\n",
    "])\n",
    "\n",
    "model.compile(loss='categorical_crossentropy', optimizer='adam', metrics=['accuracy']) #model compilation\n",
    "\n",
    "#printing model summary\n",
    "model.summary()\n",
    "model_3layer=model"
   ]
  },
  {
   "cell_type": "code",
   "execution_count": 49,
   "id": "8a291fd1-04a2-4d79-8045-902e2daf6777",
   "metadata": {},
   "outputs": [
    {
     "name": "stdout",
     "output_type": "stream",
     "text": [
      "Epoch 1/5\n",
      "29525/29525 [==============================] - 105s 4ms/step - loss: 1.1270 - accuracy: 0.4987 - val_loss: 1.0488 - val_accuracy: 0.4925\n",
      "Epoch 2/5\n",
      "29525/29525 [==============================] - 103s 3ms/step - loss: 1.1108 - accuracy: 0.5058 - val_loss: 1.0387 - val_accuracy: 0.5132\n",
      "Epoch 3/5\n",
      "29525/29525 [==============================] - 104s 4ms/step - loss: 1.1067 - accuracy: 0.5074 - val_loss: 1.0309 - val_accuracy: 0.5197\n",
      "Epoch 4/5\n",
      "29525/29525 [==============================] - 104s 4ms/step - loss: 1.1038 - accuracy: 0.5085 - val_loss: 1.0311 - val_accuracy: 0.5165\n",
      "Epoch 5/5\n",
      "29525/29525 [==============================] - 104s 4ms/step - loss: 1.1015 - accuracy: 0.5101 - val_loss: 1.0496 - val_accuracy: 0.5000\n"
     ]
    }
   ],
   "source": [
    "history=model_3layer.fit(X_train_lstm,y_train,epochs=5,validation_data=(X_val_lstm,y_val)) #training model with 3 layers, 7 epochs, and validation"
   ]
  },
  {
   "cell_type": "code",
   "execution_count": 50,
   "id": "caf8d19c-d7cb-4508-bfe0-2c97da93a344",
   "metadata": {},
   "outputs": [
    {
     "data": {
      "image/png": "[encoded data removed]",
      "text/plain": [
       "<Figure size 432x288 with 1 Axes>"
      ]
     },
     "metadata": {
      "needs_background": "light"
     },
     "output_type": "display_data"
    },
    {
     "data": {
      "image/png": "[encoded data removed]",
      "text/plain": [
       "<Figure size 432x288 with 1 Axes>"
      ]
     },
     "metadata": {
      "needs_background": "light"
     },
     "output_type": "display_data"
    }
   ],
   "source": [
    "#function to plot loss and accuracy metrics for training or validation\n",
    "def plot_metrics(history):\n",
    "    plt.plot(history.history['loss'])\n",
    "    plt.plot(history.history['val_loss'])\n",
    "    plt.title('Model Loss')                           #plots\n",
    "    plt.ylabel('Loss')                                #loss on y-axis    \n",
    "    plt.xlabel('Epoch')                               #epoch on x-axis\n",
    "    plt.legend(['train', 'val'], loc='upper right')\n",
    "    plt.show()\n",
    "\n",
    "    plt.plot(history.history['accuracy'])\n",
    "    plt.plot(history.history['val_accuracy'])\n",
    "    plt.title('Model Accuracy')                       #plots\n",
    "    plt.ylabel('Accuracy')                            #accuracy on y-axis\n",
    "    plt.xlabel('Epoch')                               #epoch on x-axis\n",
    "    plt.legend(['train', 'val'], loc='lower right')\n",
    "    plt.show()\n",
    "\n",
    "plot_metrics(history)"
   ]
  },
  {
   "cell_type": "code",
   "execution_count": 51,
   "id": "92e9a7a3-512e-4e57-92be-ab8f2c2ff3bd",
   "metadata": {},
   "outputs": [
    {
     "name": "stdout",
     "output_type": "stream",
     "text": [
      "      Training Accuracy  Testing Accuracy  Training Loss  Testing Loss\n",
      "0              0.498688          0.492500       1.127012      1.048756\n",
      "1              0.505770          0.513250       1.110847      1.038667\n",
      "2              0.507381          0.519750       1.106666      1.030946\n",
      "3              0.508503          0.516500       1.103836      1.031092\n",
      "4              0.510073          0.500000       1.101512      1.049628\n",
      "Mean           0.506083          0.508400       1.109975      1.039818\n",
      "Std            0.004423          0.011633       0.010140      0.009114\n"
     ]
    }
   ],
   "source": [
    "df_results = pd.DataFrame({'Training Accuracy': history.history['accuracy'],\n",
    "                   'Testing Accuracy': history.history['val_accuracy'],\n",
    "                   'Training Loss': history.history['loss'],\n",
    "                   'Testing Loss': history.history['val_loss']})\n",
    "\n",
    "#adding mean and standard deviation to the dataframe\n",
    "mean = df_results.mean()\n",
    "std = df_results.std()\n",
    "\n",
    "#adding mean and standard deviation as a new row to the dataframe\n",
    "df_results.loc['Mean'] = mean\n",
    "df_results.loc['Std'] = std\n",
    "\n",
    "#displaying dataframe\n",
    "print(df_results)"
   ]
  },
  {
   "cell_type": "markdown",
   "id": "3c19d61d-6d38-40dd-8ac5-ace9c8b143ad",
   "metadata": {
    "jp-MarkdownHeadingCollapsed": true
   },
   "source": [
    "## ADDING GRU"
   ]
  },
  {
   "cell_type": "code",
   "execution_count": 52,
   "id": "1581cf50-db86-4ab3-b82e-38dfc58104e0",
   "metadata": {},
   "outputs": [
    {
     "name": "stdout",
     "output_type": "stream",
     "text": [
      "Model: \"sequential_2\"\n",
      "_________________________________________________________________\n",
      " Layer (type)                Output Shape              Param #   \n",
      "=================================================================\n",
      " gru (GRU)                   (None, 1, 16)             3264      \n",
      "                                                                 \n",
      " gru_1 (GRU)                 (None, 1, 32)             4800      \n",
      "                                                                 \n",
      " gru_2 (GRU)                 (None, 64)                18816     \n",
      "                                                                 \n",
      " dense_4 (Dense)             (None, 5)                 325       \n",
      "                                                                 \n",
      "=================================================================\n",
      "Total params: 27205 (106.27 KB)\n",
      "Trainable params: 27205 (106.27 KB)\n",
      "Non-trainable params: 0 (0.00 Byte)\n",
      "_________________________________________________________________\n"
     ]
    }
   ],
   "source": [
    "from tensorflow.keras.models import Sequential\n",
    "from tensorflow.keras.layers import Embedding, GRU, Dense #GRU comprises update and reset gates instead of using input\n",
    "\n",
    "#defining model\n",
    "model = Sequential()\n",
    "\n",
    "# Add the embedding layer\n",
    "\n",
    "#adding GRU layers\n",
    "model.add(GRU(16, activation='relu', return_sequences=True,input_shape=(1,50)))\n",
    "model.add(GRU(32, activation='relu', return_sequences=True))\n",
    "model.add(GRU(64, activation='relu'))\n",
    "\n",
    "#adding the output layer\n",
    "model.add(Dense(5, activation='softmax'))\n",
    "\n",
    "#compiling model\n",
    "model.compile(optimizer='adam', loss='categorical_crossentropy', metrics=['accuracy'])\n",
    "\n",
    "#printing summary of model\n",
    "model.summary()\n",
    "model_GRU=model"
   ]
  },
  {
   "cell_type": "code",
   "execution_count": 53,
   "id": "e4803eda-320d-413c-9a0b-6b462fddd2f6",
   "metadata": {},
   "outputs": [
    {
     "name": "stdout",
     "output_type": "stream",
     "text": [
      "Epoch 1/5\n",
      "29525/29525 [==============================] - 219s 7ms/step - loss: 1.1471 - accuracy: 0.4880 - val_loss: 1.0640 - val_accuracy: 0.4915\n",
      "Epoch 2/5\n",
      "29525/29525 [==============================] - 205s 7ms/step - loss: 1.1281 - accuracy: 0.4981 - val_loss: 1.0531 - val_accuracy: 0.5005\n",
      "Epoch 3/5\n",
      "29525/29525 [==============================] - 204s 7ms/step - loss: 1.1231 - accuracy: 0.5005 - val_loss: 1.0450 - val_accuracy: 0.5050\n",
      "Epoch 4/5\n",
      "29525/29525 [==============================] - 205s 7ms/step - loss: 1.1202 - accuracy: 0.5019 - val_loss: 1.0490 - val_accuracy: 0.5060\n",
      "Epoch 5/5\n",
      "29525/29525 [==============================] - 204s 7ms/step - loss: 1.1178 - accuracy: 0.5027 - val_loss: 1.0453 - val_accuracy: 0.5042\n"
     ]
    }
   ],
   "source": [
    "history=model_GRU.fit(X_train_lstm,y_train,epochs=5,validation_data=(X_val_lstm,y_val)) #training GRU model on X_train_lstm and y_train for 7 epochs with validation data"
   ]
  },
  {
   "cell_type": "code",
   "execution_count": 54,
   "id": "92f89711-a7e1-47b7-a12d-08c14f2acf79",
   "metadata": {},
   "outputs": [
    {
     "name": "stdout",
     "output_type": "stream",
     "text": [
      "      Training Accuracy  Testing Accuracy  Training Loss  Testing Loss\n",
      "0              0.488029          0.491500       1.147052      1.063956\n",
      "1              0.498063          0.500500       1.128066      1.053050\n",
      "2              0.500464          0.505000       1.123075      1.045014\n",
      "3              0.501865          0.506000       1.120169      1.049049\n",
      "4              0.502727          0.504250       1.117785      1.045251\n",
      "Mean           0.498229          0.501450       1.127229      1.051264\n",
      "Std            0.005969          0.005938       0.011725      0.007817\n"
     ]
    }
   ],
   "source": [
    "df_results = pd.DataFrame({'Training Accuracy': history.history['accuracy'],\n",
    "                   'Testing Accuracy': history.history['val_accuracy'],\n",
    "                   'Training Loss': history.history['loss'],\n",
    "                   'Testing Loss': history.history['val_loss']})\n",
    "\n",
    "#adding the mean and standard deviation to the dataframe\n",
    "mean = df_results.mean()\n",
    "std = df_results.std()\n",
    "\n",
    "#adding the mean and standard deviation as a new row to the dataframe\n",
    "df_results.loc['Mean'] = mean\n",
    "df_results.loc['Std'] = std\n",
    "\n",
    "#displaying dataframe\n",
    "print(df_results)"
   ]
  },
  {
   "cell_type": "code",
   "execution_count": 55,
   "id": "c995107f-f48f-403d-bdad-8215675f7dfc",
   "metadata": {},
   "outputs": [
    {
     "data": {
      "image/png": "[encoded data removed]",
      "text/plain": [
       "<Figure size 432x288 with 1 Axes>"
      ]
     },
     "metadata": {
      "needs_background": "light"
     },
     "output_type": "display_data"
    },
    {
     "data": {
      "image/png": "[encoded data removed]",
      "text/plain": [
       "<Figure size 432x288 with 1 Axes>"
      ]
     },
     "metadata": {
      "needs_background": "light"
     },
     "output_type": "display_data"
    }
   ],
   "source": [
    "import numpy as np\n",
    "import pandas as pd\n",
    "import matplotlib.pyplot as plt\n",
    "\n",
    "#defining the function to plot the training and validation metrics\n",
    "def plot_metrics(history):\n",
    "    plt.plot(history.history['loss'])\n",
    "    plt.plot(history.history['val_loss'])\n",
    "    plt.title('Model Loss')                           #plots\n",
    "    plt.ylabel('Loss')                                #loss on y-axis\n",
    "    plt.xlabel('Epoch')                               #epoch on x-axis\n",
    "    plt.legend(['train', 'val'], loc='upper right')\n",
    "    plt.show()\n",
    "\n",
    "    plt.plot(history.history['accuracy'])\n",
    "    plt.plot(history.history['val_accuracy'])\n",
    "    plt.title('Model Accuracy')                       #plots\n",
    "    plt.ylabel('Accuracy')                            #accuracy on y-axis\n",
    "    plt.xlabel('Epoch')                               #epoch on x-axis\n",
    "    plt.legend(['train', 'val'], loc='lower right')\n",
    "    plt.show()\n",
    "\n",
    "plot_metrics(history)"
   ]
  },
  {
   "cell_type": "code",
   "execution_count": 56,
   "id": "5b0fc098-9ba1-49d7-a480-2a1f1521fde6",
   "metadata": {},
   "outputs": [
    {
     "name": "stdout",
     "output_type": "stream",
     "text": [
      "Epoch 1/5\n",
      "29525/29525 [==============================] - 121s 4ms/step - loss: 1.1284 - accuracy: 0.4974 - val_loss: 1.0605 - val_accuracy: 0.4910\n",
      "Epoch 2/5\n",
      "29525/29525 [==============================] - 117s 4ms/step - loss: 1.1126 - accuracy: 0.5041 - val_loss: 1.0542 - val_accuracy: 0.4918\n",
      "Epoch 3/5\n",
      "29525/29525 [==============================] - 119s 4ms/step - loss: 1.1077 - accuracy: 0.5065 - val_loss: 1.0421 - val_accuracy: 0.4992\n",
      "Epoch 4/5\n",
      "29525/29525 [==============================] - 122s 4ms/step - loss: 1.1046 - accuracy: 0.5083 - val_loss: 1.0422 - val_accuracy: 0.5052\n",
      "Epoch 5/5\n",
      "29525/29525 [==============================] - 104s 4ms/step - loss: 1.1020 - accuracy: 0.5091 - val_loss: 1.0463 - val_accuracy: 0.5153\n",
      "Epoch 1/5\n",
      "29525/29525 [==============================] - 113s 4ms/step - loss: 1.1730 - accuracy: 0.4747 - val_loss: 1.0850 - val_accuracy: 0.4672\n",
      "Epoch 2/5\n",
      "29525/29525 [==============================] - 110s 4ms/step - loss: 1.1509 - accuracy: 0.4869 - val_loss: 1.0808 - val_accuracy: 0.4770\n",
      "Epoch 3/5\n",
      "29525/29525 [==============================] - 110s 4ms/step - loss: 1.1467 - accuracy: 0.4890 - val_loss: 1.0838 - val_accuracy: 0.4793\n",
      "Epoch 4/5\n",
      "29525/29525 [==============================] - 110s 4ms/step - loss: 1.1414 - accuracy: 0.4919 - val_loss: 1.0613 - val_accuracy: 0.4825\n",
      "Epoch 5/5\n",
      "29525/29525 [==============================] - 110s 4ms/step - loss: 1.1387 - accuracy: 0.4929 - val_loss: 1.0579 - val_accuracy: 0.4952\n",
      "Epoch 1/5\n",
      "29525/29525 [==============================] - 110s 4ms/step - loss: 1.1464 - accuracy: 0.4890 - val_loss: 1.0649 - val_accuracy: 0.4985\n",
      "Epoch 2/5\n",
      "29525/29525 [==============================] - 100s 3ms/step - loss: 1.1322 - accuracy: 0.4955 - val_loss: 1.0560 - val_accuracy: 0.4927\n",
      "Epoch 3/5\n",
      "29525/29525 [==============================] - 81s 3ms/step - loss: 1.1282 - accuracy: 0.4977 - val_loss: 1.0464 - val_accuracy: 0.5070\n",
      "Epoch 4/5\n",
      "29525/29525 [==============================] - 79s 3ms/step - loss: 1.1255 - accuracy: 0.4986 - val_loss: 1.0613 - val_accuracy: 0.4920\n",
      "Epoch 5/5\n",
      "29525/29525 [==============================] - 87s 3ms/step - loss: 1.1237 - accuracy: 0.4992 - val_loss: 1.0534 - val_accuracy: 0.4985\n",
      "Epoch 1/5\n",
      "29525/29525 [==============================] - 88s 3ms/step - loss: 1.1304 - accuracy: 0.4955 - val_loss: 1.0398 - val_accuracy: 0.5132\n",
      "Epoch 2/5\n",
      "29525/29525 [==============================] - 85s 3ms/step - loss: 1.1141 - accuracy: 0.5031 - val_loss: 1.0456 - val_accuracy: 0.4995\n",
      "Epoch 3/5\n",
      "29525/29525 [==============================] - 95s 3ms/step - loss: 1.1089 - accuracy: 0.5055 - val_loss: 1.0380 - val_accuracy: 0.5088\n",
      "Epoch 4/5\n",
      "29525/29525 [==============================] - 92s 3ms/step - loss: 1.1052 - accuracy: 0.5076 - val_loss: 1.0395 - val_accuracy: 0.5038\n",
      "Epoch 5/5\n",
      "29525/29525 [==============================] - 89s 3ms/step - loss: 1.1026 - accuracy: 0.5086 - val_loss: 1.0332 - val_accuracy: 0.5148\n",
      "Epoch 1/5\n",
      "29525/29525 [==============================] - 93s 3ms/step - loss: 1.1958 - accuracy: 0.4643 - val_loss: 1.0840 - val_accuracy: 0.4765\n",
      "Epoch 2/5\n",
      "29525/29525 [==============================] - 128s 4ms/step - loss: 1.1518 - accuracy: 0.4869 - val_loss: 1.0705 - val_accuracy: 0.4870\n",
      "Epoch 3/5\n",
      "29525/29525 [==============================] - 97s 3ms/step - loss: 1.1473 - accuracy: 0.4888 - val_loss: 1.0620 - val_accuracy: 0.4933\n",
      "Epoch 4/5\n",
      "29525/29525 [==============================] - 93s 3ms/step - loss: 1.1435 - accuracy: 0.4901 - val_loss: 1.0715 - val_accuracy: 0.4845\n",
      "Epoch 5/5\n",
      "29525/29525 [==============================] - 102s 3ms/step - loss: 1.1409 - accuracy: 0.4917 - val_loss: 1.0576 - val_accuracy: 0.5000\n",
      "Epoch 1/5\n",
      "29525/29525 [==============================] - 88s 3ms/step - loss: 1.1496 - accuracy: 0.4878 - val_loss: 1.0696 - val_accuracy: 0.4888\n",
      "Epoch 2/5\n",
      "29525/29525 [==============================] - 95s 3ms/step - loss: 1.1351 - accuracy: 0.4943 - val_loss: 1.0642 - val_accuracy: 0.5015\n",
      "Epoch 3/5\n",
      "29525/29525 [==============================] - 94s 3ms/step - loss: 1.1306 - accuracy: 0.4969 - val_loss: 1.0784 - val_accuracy: 0.4795\n",
      "Epoch 4/5\n",
      "29525/29525 [==============================] - 91s 3ms/step - loss: 1.1277 - accuracy: 0.4976 - val_loss: 1.0582 - val_accuracy: 0.4970\n",
      "Epoch 5/5\n",
      "29525/29525 [==============================] - 90s 3ms/step - loss: 1.1258 - accuracy: 0.4986 - val_loss: 1.0486 - val_accuracy: 0.5015\n",
      "Epoch 1/5\n",
      "29525/29525 [==============================] - 92s 3ms/step - loss: 1.1320 - accuracy: 0.4949 - val_loss: 1.0761 - val_accuracy: 0.4805\n",
      "Epoch 2/5\n",
      "29525/29525 [==============================] - 89s 3ms/step - loss: 1.1150 - accuracy: 0.5032 - val_loss: 1.0390 - val_accuracy: 0.5117\n",
      "Epoch 3/5\n",
      "29525/29525 [==============================] - 88s 3ms/step - loss: 1.1102 - accuracy: 0.5048 - val_loss: 1.0304 - val_accuracy: 0.5232\n",
      "Epoch 4/5\n",
      "29525/29525 [==============================] - 89s 3ms/step - loss: 1.1065 - accuracy: 0.5073 - val_loss: 1.0485 - val_accuracy: 0.5042\n",
      "Epoch 5/5\n",
      "29525/29525 [==============================] - 89s 3ms/step - loss: 1.1042 - accuracy: 0.5080 - val_loss: 1.0401 - val_accuracy: 0.5008\n",
      "Epoch 1/5\n",
      "29525/29525 [==============================] - 95s 3ms/step - loss: 1.2079 - accuracy: 0.4569 - val_loss: 1.0704 - val_accuracy: 0.4927\n",
      "Epoch 2/5\n",
      "29525/29525 [==============================] - 89s 3ms/step - loss: 1.1528 - accuracy: 0.4857 - val_loss: 1.0773 - val_accuracy: 0.4825\n",
      "Epoch 3/5\n",
      "29525/29525 [==============================] - 89s 3ms/step - loss: 1.1481 - accuracy: 0.4883 - val_loss: 1.0655 - val_accuracy: 0.4885\n",
      "Epoch 4/5\n",
      "29525/29525 [==============================] - 90s 3ms/step - loss: 1.1440 - accuracy: 0.4903 - val_loss: 1.0690 - val_accuracy: 0.4865\n",
      "Epoch 5/5\n",
      "29525/29525 [==============================] - 93s 3ms/step - loss: 1.1414 - accuracy: 0.4913 - val_loss: 1.0757 - val_accuracy: 0.4805\n",
      "Epoch 1/5\n",
      "29525/29525 [==============================] - 94s 3ms/step - loss: 1.1520 - accuracy: 0.4871 - val_loss: 1.0520 - val_accuracy: 0.5095\n",
      "Epoch 2/5\n",
      "29525/29525 [==============================] - 91s 3ms/step - loss: 1.1372 - accuracy: 0.4939 - val_loss: 1.0490 - val_accuracy: 0.5023\n",
      "Epoch 3/5\n",
      "29525/29525 [==============================] - 90s 3ms/step - loss: 1.1315 - accuracy: 0.4966 - val_loss: 1.0602 - val_accuracy: 0.4958\n",
      "Epoch 4/5\n",
      "29525/29525 [==============================] - 92s 3ms/step - loss: 1.1281 - accuracy: 0.4983 - val_loss: 1.0628 - val_accuracy: 0.4755\n",
      "Epoch 5/5\n",
      "29525/29525 [==============================] - 89s 3ms/step - loss: 1.1258 - accuracy: 0.4990 - val_loss: 1.0530 - val_accuracy: 0.4975\n"
     ]
    },
    {
     "data": {
      "text/plain": [
       "Text(0.5, 1.0, 'Effect of Different Activation Functions')"
      ]
     },
     "execution_count": 56,
     "metadata": {},
     "output_type": "execute_result"
    },
    {
     "data": {
      "image/png": "[encoded data removed]",
      "text/plain": [
       "<Figure size 432x288 with 1 Axes>"
      ]
     },
     "metadata": {
      "needs_background": "light"
     },
     "output_type": "display_data"
    },
    {
     "data": {
      "image/png": "[encoded data removed]",
      "text/plain": [
       "<Figure size 432x288 with 1 Axes>"
      ]
     },
     "metadata": {
      "needs_background": "light"
     },
     "output_type": "display_data"
    }
   ],
   "source": [
    "import tensorflow as tf\n",
    "from tensorflow.keras.layers import Dense, Flatten\n",
    "\n",
    "# Define input shape and output dimension\n",
    "input_shape=(1,50)\n",
    "output_dim = 5\n",
    "\n",
    "# Define hyperparameters\n",
    "hidden_dim_1 = 128\n",
    "hidden_dim_2 = 64\n",
    "num_layers = [4, 5, 6]   # Vary the number of layers\n",
    "activations = ['relu', 'sigmoid', 'tanh']  # Vary the activation functions\n",
    "\n",
    "# Create a function to build the deep NN model\n",
    "def build_model(num_layers, activation):\n",
    "    model = tf.keras.models.Sequential()\n",
    "    model.add(Flatten(input_shape=input_shape))\n",
    "    for i in range(num_layers):\n",
    "        model.add(Dense(hidden_dim_1, activation=activation))\n",
    "    model.add(Dense(output_dim, activation='softmax'))\n",
    "    return model\n",
    "\n",
    "# Train and evaluate the models for different configurations\n",
    "results = []\n",
    "for nl in num_layers:\n",
    "    for act in activations:\n",
    "        model = build_model(nl, act)\n",
    "        model.compile(optimizer='adam', loss='categorical_crossentropy', metrics=['accuracy'])\n",
    "        history = model.fit(X_train_lstm, y_train, epochs=5, validation_data=(X_val_lstm, y_val))\n",
    "        results.append((nl, act, history.history['val_accuracy'][-1]))\n",
    "\n",
    "# Plot the results of adding more layers\n",
    "import matplotlib.pyplot as plt\n",
    "import numpy as np\n",
    "\n",
    "fig, ax = plt.subplots()\n",
    "for act in activations:\n",
    "    y = [r[2] for r in results if r[1] == act]\n",
    "    ax.plot(num_layers, y, label=act)\n",
    "ax.legend()\n",
    "ax.set_xlabel('Number of Layers')\n",
    "ax.set_ylabel('Validation Accuracy')\n",
    "ax.set_title('Effect of Adding More Layers')\n",
    "\n",
    "# Plot the results of different activation functions\n",
    "fig, ax = plt.subplots()\n",
    "y = [r[2] for r in results if r[0] == 4]   # Use 4 layers as an example\n",
    "x_labels = [r[1] for r in results if r[0] ==4 ]\n",
    "ax.bar(x_labels, y)\n",
    "ax.set_xlabel('Activation Functions')\n",
    "ax.set_ylabel('Validation Accuracy')\n",
    "ax.set_title('Effect of Different Activation Functions')"
   ]
  },
  {
   "cell_type": "code",
   "execution_count": 57,
   "id": "35dbbce9",
   "metadata": {},
   "outputs": [],
   "source": [
    "tfid_matrix_test = vectorizer.transform(df_test['review_text']) #creating a Tfidf matrix from test data reviews"
   ]
  },
  {
   "cell_type": "code",
   "execution_count": 58,
   "id": "278caea4",
   "metadata": {},
   "outputs": [
    {
     "name": "stdout",
     "output_type": "stream",
     "text": [
      "  (0, 664269)\t0.09283043218119913\n",
      "  (0, 643105)\t0.06583319560964136\n",
      "  (0, 598788)\t0.05946695261806527\n",
      "  (0, 561833)\t0.08353906630816219\n",
      "  (0, 507630)\t0.08911381704337334\n",
      "  (0, 502717)\t0.08328547717320317\n",
      "  (0, 479740)\t0.0389018927704853\n",
      "  (0, 477308)\t0.03508898218809589\n",
      "  (0, 476435)\t0.2717887017742916\n",
      "  (0, 444219)\t0.11095773402680428\n",
      "  (0, 418940)\t0.03700154073918458\n",
      "  (0, 414886)\t0.07453667030798093\n",
      "  (0, 362109)\t0.0737251298071911\n",
      "  (0, 353622)\t0.07247742011276884\n",
      "  (0, 352326)\t0.06554482336642163\n",
      "  (0, 347252)\t0.1416509916320744\n",
      "  (0, 344001)\t0.10169422215793512\n",
      "  (0, 343751)\t0.04284503552168987\n",
      "  (0, 304772)\t0.523532994404007\n",
      "  (0, 264518)\t0.09648492032006875\n",
      "  (0, 251274)\t0.6324420726165129\n",
      "  (0, 194775)\t0.08662694103548524\n",
      "  (0, 182305)\t0.04725501475590596\n",
      "  (0, 159438)\t0.15397452829058733\n",
      "  (0, 155074)\t0.07285138489102579\n",
      "  :\t:\n",
      "  (413409, 57593)\t0.04615635648420482\n",
      "  (413409, 54509)\t0.02666745179410078\n",
      "  (413409, 52864)\t0.03313781333629319\n",
      "  (413409, 52402)\t0.02704934449178914\n",
      "  (413409, 50545)\t0.05390834140141014\n",
      "  (413409, 50515)\t0.07128579204419744\n",
      "  (413409, 46076)\t0.024086042353787192\n",
      "  (413409, 43505)\t0.03894080428426545\n",
      "  (413409, 36680)\t0.04359078408178642\n",
      "  (413409, 34110)\t0.07280740148364245\n",
      "  (413409, 29680)\t0.03532199810055254\n",
      "  (413409, 28925)\t0.028499548203299096\n",
      "  (413409, 26819)\t0.03976015367217843\n",
      "  (413409, 26766)\t0.08075542709121031\n",
      "  (413409, 26532)\t0.0697630621103528\n",
      "  (413409, 25253)\t0.04648372410869115\n",
      "  (413409, 24472)\t0.04239128992053535\n",
      "  (413409, 20372)\t0.025889863027431678\n",
      "  (413409, 20342)\t0.062464959793309745\n",
      "  (413409, 19714)\t0.023291301036511326\n",
      "  (413409, 18204)\t0.04972283007039551\n",
      "  (413409, 18162)\t0.028967355056639117\n",
      "  (413409, 9460)\t0.05504557166393432\n",
      "  (413409, 3338)\t0.04790634475029424\n",
      "  (413409, 1636)\t0.02846445114703302\n"
     ]
    }
   ],
   "source": [
    "print(tfid_matrix_test) #printing tfidf matrix to test"
   ]
  },
  {
   "cell_type": "code",
   "execution_count": 59,
   "id": "e7c0e983",
   "metadata": {},
   "outputs": [],
   "source": [
    "X_test_svd=svd.transform(csr_matrix(tfid_matrix_test)) #transforming test data using SVD"
   ]
  },
  {
   "cell_type": "code",
   "execution_count": 60,
   "id": "c79fa0b7",
   "metadata": {},
   "outputs": [],
   "source": [
    "X_test12 = X_test_svd.reshape(X_test_svd.shape[0],1,X_test_svd.shape[1]) #reshaping X_test_svd to 3D array"
   ]
  },
  {
   "cell_type": "code",
   "execution_count": 61,
   "id": "7cf45b6f",
   "metadata": {},
   "outputs": [
    {
     "name": "stdout",
     "output_type": "stream",
     "text": [
      "12920/12920 [==============================] - 40s 3ms/step\n"
     ]
    }
   ],
   "source": [
    "#we can predict on the test set after reshaping as shown above using the fitted\n",
    "#deep,shallow lstm or gru model\n",
    "#we create a different shape when using the 1d cnn later on in the notebook \n",
    "y_pred=model_GRU.predict(X_test12) #predicting output using GRU model on test data"
   ]
  },
  {
   "cell_type": "code",
   "execution_count": 62,
   "id": "0a5edd84",
   "metadata": {},
   "outputs": [],
   "source": [
    "y_pred=np.argmax(y_pred, axis=1) #converting y_pred to its highest index position"
   ]
  },
  {
   "cell_type": "code",
   "execution_count": 63,
   "id": "7e7d2e4d",
   "metadata": {},
   "outputs": [
    {
     "data": {
      "text/plain": [
       "array([4, 4, 4, ..., 4, 4, 4], dtype=int64)"
      ]
     },
     "execution_count": 63,
     "metadata": {},
     "output_type": "execute_result"
    }
   ],
   "source": [
    "y_pred"
   ]
  },
  {
   "cell_type": "code",
   "execution_count": 64,
   "id": "80bcf035",
   "metadata": {},
   "outputs": [],
   "source": [
    "y_pred=y_pred.reshape(-1,1) #reshapeing y_pred to a single column"
   ]
  },
  {
   "cell_type": "code",
   "execution_count": 65,
   "id": "4349b827",
   "metadata": {},
   "outputs": [],
   "source": [
    "#reversing what we did to predict on the test data\n",
    "y_pred=y_pred+1"
   ]
  },
  {
   "cell_type": "code",
   "execution_count": 66,
   "id": "74f9e798",
   "metadata": {},
   "outputs": [
    {
     "data": {
      "text/plain": [
       "array([[5],\n",
       "       [5],\n",
       "       [5],\n",
       "       ...,\n",
       "       [5],\n",
       "       [5],\n",
       "       [5]], dtype=int64)"
      ]
     },
     "execution_count": 66,
     "metadata": {},
     "output_type": "execute_result"
    }
   ],
   "source": [
    "y_pred #predicted output or value from a model"
   ]
  },
  {
   "cell_type": "code",
   "execution_count": 67,
   "id": "b8ac6cdd",
   "metadata": {},
   "outputs": [],
   "source": [
    "id=((df_test['review_id']).to_numpy()) #converting review_id column in df_test to numpy array"
   ]
  },
  {
   "cell_type": "code",
   "execution_count": 68,
   "id": "d9db8fcf",
   "metadata": {},
   "outputs": [],
   "source": [
    "id=id.reshape(-1,1) #reshaping id as a single column array"
   ]
  },
  {
   "cell_type": "code",
   "execution_count": 69,
   "id": "e2ec957e",
   "metadata": {},
   "outputs": [],
   "source": [
    "pred=np.column_stack((id,y_pred)) #creating a new array by stacking id and y_pred"
   ]
  },
  {
   "cell_type": "code",
   "execution_count": 70,
   "id": "af9e176e",
   "metadata": {},
   "outputs": [
    {
     "data": {
      "text/plain": [
       "array([['ed5b1212a053ed7d6ccc39db64af431c', 5],\n",
       "       ['924764c0576d48ab45d21ee9eeae13ff', 5],\n",
       "       ['f043315b04e55082ecb169e4615d7718', 5],\n",
       "       ...,\n",
       "       ['9b19eff33ddb14e9e68fca2e90379e46', 5],\n",
       "       ['8be463fed78f0da63e964706f710332b', 5],\n",
       "       ['62ed1263c7d216986cc419cd4e8a408b', 5]], dtype=object)"
      ]
     },
     "execution_count": 70,
     "metadata": {},
     "output_type": "execute_result"
    }
   ],
   "source": [
    "pred"
   ]
  },
  {
   "cell_type": "code",
   "execution_count": 71,
   "id": "ceca8ce5",
   "metadata": {},
   "outputs": [],
   "source": [
    "dfpred = pd.DataFrame(pred, columns=['review_id', 'rating']) #creating a pandas DataFrame with columns \"review_id\" and \"rating\", using values from \"pred\""
   ]
  },
  {
   "cell_type": "code",
   "execution_count": 72,
   "id": "7aba0014",
   "metadata": {},
   "outputs": [
    {
     "data": {
      "text/plain": [
       "4    193848\n",
       "5    157353\n",
       "3     51622\n",
       "2      7155\n",
       "1      3432\n",
       "Name: rating, dtype: int64"
      ]
     },
     "execution_count": 72,
     "metadata": {},
     "output_type": "execute_result"
    }
   ],
   "source": [
    "dfpred['rating'].value_counts()"
   ]
  },
  {
   "cell_type": "code",
   "execution_count": 73,
   "id": "796a250f",
   "metadata": {},
   "outputs": [
    {
     "name": "stdout",
     "output_type": "stream",
     "text": [
      "special book started slow first third middle third started get interesting last third blew mind love good science fiction pushes thinking things go hugo winner translated original chinese made interesting different way things ive read instance intermixing chinese revolutionary history kept accusing people reactionaries etc book science aliens science described book impressive book grounded physics pretty accurate far could tell view spoilerthough got folding protons dimensions think making stuff interesting think though would happen seti stations received message found someone person monitoring answering signal side disillusioned part book bit dark would like think human reaction discovering alien civilization hostile would like enders game would band together like book unveiled trisolaran culture game smart way build empathy also understand theyve gone across many centuries know body problem unsolvable math problem still dont get made game maybe come next book loved quote long history scientific progress many protons smashed apart accelerators physicists many neutrons electrons probably fewer hundred million every collision probably end civilizations intelligences microcosmos fact even nature destruction universes must happening every secondfor example decay neutrons also highenergy cosmic ray entering atmosphere may destroy thousands miniature universes hide spoiler\n",
      "673994\n"
     ]
    }
   ],
   "source": [
    "#we try 1D CNN with GloVe embeddings\n",
    "from tensorflow.keras.preprocessing.text import Tokenizer\n",
    "from tensorflow.keras.preprocessing.sequence import pad_sequences\n",
    "X=df2['review_text']\n",
    "print(X[0])\n",
    "y_val=y_onehot[:4000]\n",
    "X_val=X[:4000]\n",
    "y_train=y_onehot[4000:]\n",
    "X_train=X[4000:]\n",
    "\n",
    "tokenizer = Tokenizer()\n",
    "tokenizer.fit_on_texts(X_train) #fitting tokenizer only on train data\n",
    "\n",
    "#calculating vocabulary size using a tokenizer\n",
    "vocab_size = len(tokenizer.word_index)\n",
    "print(vocab_size)"
   ]
  },
  {
   "cell_type": "code",
   "execution_count": null,
   "id": "fa8d7065",
   "metadata": {},
   "outputs": [],
   "source": [
    "s"
   ]
  }
 ],
 "metadata": {
  "kernelspec": {
   "display_name": "Python 3 (ipykernel)",
   "language": "python",
   "name": "python3"
  },
  "language_info": {
   "codemirror_mode": {
    "name": "ipython",
    "version": 3
   },
   "file_extension": ".py",
   "mimetype": "text/x-python",
   "name": "python",
   "nbconvert_exporter": "python",
   "pygments_lexer": "ipython3",
   "version": "3.9.12"
  }
 },
 "nbformat": 4,
 "nbformat_minor": 5
}
